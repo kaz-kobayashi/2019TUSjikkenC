{
  "nbformat": 4,
  "nbformat_minor": 0,
  "metadata": {
    "colab": {
      "name": "190614TUSJikken.ipynb",
      "version": "0.3.2",
      "provenance": [],
      "collapsed_sections": []
    },
    "kernelspec": {
      "name": "python3",
      "display_name": "Python 3"
    }
  },
  "cells": [
    {
      "cell_type": "markdown",
      "metadata": {
        "id": "XwXM7YwLjhaD",
        "colab_type": "text"
      },
      "source": [
        "線形最適化問題を解いてみる\n"
      ]
    },
    {
      "cell_type": "markdown",
      "metadata": {
        "id": "c1ZftlLOjjNE",
        "colab_type": "text"
      },
      "source": [
        "最大化 $2x_1 + 3x_2$\n",
        "\n",
        "条件  $ x_1 + 3x_2 \\leq 9$\n",
        "\n",
        " $ x_1 + x_2 \\leq 4 $\n",
        "\n",
        " $ 2x_1 + x_2 \\leq 6 $\n"
      ]
    },
    {
      "cell_type": "code",
      "metadata": {
        "id": "-Z4myzVIj5wx",
        "colab_type": "code",
        "outputId": "b641eee5-c2c1-4737-edb6-1ce2f400dbef",
        "colab": {
          "base_uri": "https://localhost:8080/",
          "height": 207
        }
      },
      "source": [
        "!pip install pulp"
      ],
      "execution_count": 0,
      "outputs": [
        {
          "output_type": "stream",
          "text": [
            "Collecting pulp\n",
            "\u001b[?25l  Downloading https://files.pythonhosted.org/packages/2d/33/3ae6d9d2ac8c7068937af6372fd8828ac605e62a8b17106fe57110930d38/PuLP-1.6.10.zip (13.6MB)\n",
            "\u001b[K     |████████████████████████████████| 13.6MB 4.2MB/s \n",
            "\u001b[?25hRequirement already satisfied: pyparsing>=2.0.1 in /usr/local/lib/python3.6/dist-packages (from pulp) (2.4.0)\n",
            "Building wheels for collected packages: pulp\n",
            "  Building wheel for pulp (setup.py) ... \u001b[?25l\u001b[?25hdone\n",
            "  Stored in directory: /root/.cache/pip/wheels/5e/76/77/e28b22219e46e3b4b033f02e8b36b2770ae545bdcf60c2b224\n",
            "Successfully built pulp\n",
            "Installing collected packages: pulp\n",
            "Successfully installed pulp-1.6.10\n"
          ],
          "name": "stdout"
        }
      ]
    },
    {
      "cell_type": "code",
      "metadata": {
        "id": "wsuR6xW-j9NY",
        "colab_type": "code",
        "outputId": "6427e0ae-29d0-4b55-e21d-6f6b41c8fb3f",
        "colab": {
          "base_uri": "https://localhost:8080/",
          "height": 323
        }
      },
      "source": [
        "from pulp import *\n",
        "prob=LpProblem(name=\"Lp-Sample\",sense=LpMaximize)\n",
        "x1=LpVariable('x1',lowBound=0.0)\n",
        "x2=LpVariable('x2',lowBound=0.0)\n",
        "prob+=2*x1+3*x2 #目的関数の設定\n",
        "prob+=x1+3*x2<=9,'ineq1'\n",
        "prob+=x1+x2<=4,'ineq2'\n",
        "prob+=2*x1+x2<=6,'ineq3'\n",
        "print(prob)\n",
        "prob.solve() #求解\n",
        "print(LpStatus[prob.status])\n",
        "print(\"Optimal value=\",value(prob.objective))\n",
        "for v in prob.variables():\n",
        "  print(v.name,\"=\",value(v))\n"
      ],
      "execution_count": 0,
      "outputs": [
        {
          "output_type": "stream",
          "text": [
            "Lp-Sample:\n",
            "MAXIMIZE\n",
            "2*x1 + 3*x2 + 0\n",
            "SUBJECT TO\n",
            "ineq1: x1 + 3 x2 <= 9\n",
            "\n",
            "ineq2: x1 + x2 <= 4\n",
            "\n",
            "ineq3: 2 x1 + x2 <= 6\n",
            "\n",
            "VARIABLES\n",
            "x1 Continuous\n",
            "x2 Continuous\n",
            "\n",
            "Optimal\n",
            "Optimal value= 10.5\n",
            "x1 = 1.5\n",
            "x2 = 2.5\n"
          ],
          "name": "stdout"
        }
      ]
    },
    {
      "cell_type": "markdown",
      "metadata": {
        "id": "C5cJluN-nObr",
        "colab_type": "text"
      },
      "source": [
        "1行目ではpulpパッケージを読み込む．２行目のLpProblemで問題オブジェクトを生成する．name=\"文字列\"で問題に名前をつけることができる．sense=値で，最大化か最小化を選ぶ．最大化ならLpMaximize,最小化ならLpMinimizeを指定する．\n",
        "\n",
        "3,4行目で，LpVariableを用いて変数x1,x2を定義している．変数の定義の際には，変数の名前，変数の種類（整数かなど）と下限・上限を指定できる．種類はを指定しなければ，連続変数として定義される．\n",
        "\n",
        "5行目で目的関数を設定している．目的関数は，+=演算子によって線形式を加えることで設定される．複数回実行すると，最後に実行された内容が設定される．例えば，prob+=20*x1+3*x2を実行すると，問題の目的関数は，$ 20x_1+3x_2$ に上書きされる．"
      ]
    },
    {
      "cell_type": "code",
      "metadata": {
        "id": "O2h1UGSToNTQ",
        "colab_type": "code",
        "colab": {}
      },
      "source": [
        "prob+=20*x1+3*x2\n",
        "print(prob)"
      ],
      "execution_count": 0,
      "outputs": []
    },
    {
      "cell_type": "markdown",
      "metadata": {
        "id": "0gsjoPRBollj",
        "colab_type": "text"
      },
      "source": [
        "6, 7, 8行目で制約式を３つ設定している．制約式は，+=演算子によって線形不等式を加えることで設定される（目的関数は線形”式”を追加したこととの違いに注意）．制約式には，名前をつけることができる．\n",
        "\n",
        "10行目で，この線形最適化問題を解く．解いた結果，最適解が得られたか否かを，LpStatus[prob.status]によって確認することができる．LpStatusは，LPを解いた結果の取りうる状態を格納した辞書であり，prob.status自体はこの辞書のキーとなる値(0,1,-1,-2,-3)を取る．"
      ]
    },
    {
      "cell_type": "code",
      "metadata": {
        "id": "i4tAd7MZoiW2",
        "colab_type": "code",
        "outputId": "a105227b-bb20-448e-b4f2-f652a065a5b5",
        "colab": {
          "base_uri": "https://localhost:8080/",
          "height": 34
        }
      },
      "source": [
        "print(LpStatus)"
      ],
      "execution_count": 0,
      "outputs": [
        {
          "output_type": "stream",
          "text": [
            "{0: 'Not Solved', 1: 'Optimal', -1: 'Infeasible', -2: 'Unbounded', -3: 'Undefined'}\n"
          ],
          "name": "stdout"
        }
      ]
    },
    {
      "cell_type": "markdown",
      "metadata": {
        "id": "jaD--kPDqgc-",
        "colab_type": "text"
      },
      "source": [
        "12行目で，解いた結果得られた最適値prob.objectiveを表示している．\n",
        "解いた結果の状態での各変数の値には，13行目，14行目を実行することにより表示される．"
      ]
    },
    {
      "cell_type": "markdown",
      "metadata": {
        "id": "lIMlXKuqrcB-",
        "colab_type": "text"
      },
      "source": [
        "##生産計画問題\n",
        "\n",
        "スーパーSでは，毎日直接農家から３種類の果物，オレンジ，りんご，ぶどうを仕入れて，３種類のミックスジュースA, B, Cを製造・販売している．原料である果物は１日あたりそれぞれオレンジ60kg, りんご36kg, ぶどう48kg仕入れることができる．ミックスジュースAを1リットル作るには，オレンジ，りんごがそれぞれ3kg, 1kg必要で，ミックスジュースBを1リットル作るには，オレンジ，りんご，ぶどうがそれぞれ1kg, 3kg, 2kg必要で，ミックスジュースCを1リットル作るには，オレンジ，ぶどうがそれぞれ2kg, 4kg必要である．製造されたミックスジュースは，1リットルあたりそれぞれ，150円，200円，300円で売れていく．販売利益を最大にするには，３種類の製品を１日あたりどれだけ生産すればよいか ?\n",
        "\n",
        "\n",
        "|  原料  | 制限  | A |B |C |\n",
        "| ---- | ---- | ---- |---- |---- |\n",
        "|  オレンジ  |  60kg  | 3 | 1 | 2 |\n",
        "|  りんご|  36kg  |1 | 3 | 0 |\n",
        "|  ぶどう|  48kg  |0 | 2 | 4 |\n",
        "|  1Lあたりの利益|  ----  |150円| 200円 | 300円 |\n",
        "\n",
        "\n"
      ]
    },
    {
      "cell_type": "markdown",
      "metadata": {
        "id": "Flq5yINutYVm",
        "colab_type": "text"
      },
      "source": [
        "最大化 $150x_1 + 200x_2 + 300 x_3$\n",
        "\n",
        "条件 $ 3x_1+x_2+2x_3 \\leq 60 $\n",
        "\n",
        "$ x_1+3x_2  \\leq 36 $\n",
        "\n",
        "$ 2x_2+4x_3 \\leq 48 $\n"
      ]
    },
    {
      "cell_type": "markdown",
      "metadata": {
        "id": "4rvW_pXUs72B",
        "colab_type": "text"
      },
      "source": [
        "この問題をPuLPで表すために，係数行列，コストベクトル，右側定数ベクトルをあらかじめ定義しておくとよい．そのために，NumPyを使う．\n"
      ]
    },
    {
      "cell_type": "code",
      "metadata": {
        "id": "PS_tNhWatGGW",
        "colab_type": "code",
        "outputId": "dfccdaa6-17b1-4991-905a-de961d23cbca",
        "colab": {
          "base_uri": "https://localhost:8080/",
          "height": 102
        }
      },
      "source": [
        "from pulp import *\n",
        "import numpy as np\n",
        "A=np.array([[3,1,2],[1,3,0],[0,2,4]])\n",
        "c=np.array([150,200,300])\n",
        "b=np.array([60,36,48])\n",
        "(m,n)=A.shape\n",
        "print(\"A=\",A)\n",
        "print(\"b=\",b)\n",
        "print(\"c=\",c)"
      ],
      "execution_count": 0,
      "outputs": [
        {
          "output_type": "stream",
          "text": [
            "A= [[3 1 2]\n",
            " [1 3 0]\n",
            " [0 2 4]]\n",
            "b= [60 36 48]\n",
            "c= [150 200 300]\n"
          ],
          "name": "stdout"
        }
      ]
    },
    {
      "cell_type": "code",
      "metadata": {
        "id": "HzOyWee4vy_d",
        "colab_type": "code",
        "outputId": "ce527d10-0eb1-47a9-a7ff-cf49b1aa85da",
        "colab": {
          "base_uri": "https://localhost:8080/",
          "height": 68
        }
      },
      "source": [
        "for i in range(m):\n",
        "  print(A[i])"
      ],
      "execution_count": 0,
      "outputs": [
        {
          "output_type": "stream",
          "text": [
            "[3 1 2]\n",
            "[1 3 0]\n",
            "[0 2 4]\n"
          ],
          "name": "stdout"
        }
      ]
    },
    {
      "cell_type": "code",
      "metadata": {
        "id": "Jk9b53e8v2U2",
        "colab_type": "code",
        "colab": {}
      },
      "source": [
        ""
      ],
      "execution_count": 0,
      "outputs": []
    },
    {
      "cell_type": "code",
      "metadata": {
        "id": "snEggq2xugDv",
        "colab_type": "code",
        "outputId": "57769564-5d4d-484c-d6cd-1890d85f567f",
        "colab": {
          "base_uri": "https://localhost:8080/",
          "height": 357
        }
      },
      "source": [
        "prob=LpProblem(name=\"Production\",sense=LpMaximize)\n",
        "x=[LpVariable('x'+str(i+1),lowBound=0) for i in range(n)]\n",
        "prob+=lpDot(c,x)\n",
        "for i in range(m):\n",
        "  prob += lpDot(A[i],x) <= b[i],'ineq'+str(i)\n",
        "print(prob)\n",
        "prob.solve()\n",
        "print(LpStatus[prob.status])\n",
        "print('Optimal value =',value(prob.objective))\n",
        "for v in prob.variables():\n",
        "  print(v.name,'=',v.varValue)"
      ],
      "execution_count": 0,
      "outputs": [
        {
          "output_type": "stream",
          "text": [
            "Production:\n",
            "MAXIMIZE\n",
            "150*x1 + 200*x2 + 300*x3 + 0\n",
            "SUBJECT TO\n",
            "ineq0: 3 x1 + x2 + 2 x3 <= 60\n",
            "\n",
            "ineq1: x1 + 3 x2 <= 36\n",
            "\n",
            "ineq2: 2 x2 + 4 x3 <= 48\n",
            "\n",
            "VARIABLES\n",
            "x1 Continuous\n",
            "x2 Continuous\n",
            "x3 Continuous\n",
            "\n",
            "Optimal\n",
            "Optimal value = 5800.0\n",
            "x1 = 12.0\n",
            "x2 = 8.0\n",
            "x3 = 8.0\n"
          ],
          "name": "stdout"
        }
      ]
    },
    {
      "cell_type": "markdown",
      "metadata": {
        "id": "8Nx792KxvUBe",
        "colab_type": "text"
      },
      "source": [
        "全体の流れとしては，前と同じである．まず，LpProblem()によって問題オブジェクトを生成し，変数を生成し，その後目的関数を定めたから制約式を定めている．ここでは，変数はリストxとして生成している．xをリストとして生成し，変数の係数cもベクトルとして定義すると，cとxの内積を生成する関数lpDot(c,x)によって目的関数の線形式を生成することができる．制約式の定義でも同様に内積を生成する関数 LpDot()を用いてる．ここで，Aは3x3の行列を表しており，A[i]は行列Aの第1行目を表す．\n",
        "\n",
        "こうして定義した線形最適化問題を解くと，最適解(12.0,8.0,8.0)が得られ，最適値は5800である．\n",
        "\n"
      ]
    },
    {
      "cell_type": "markdown",
      "metadata": {
        "id": "1FtgwsA6wYvU",
        "colab_type": "text"
      },
      "source": [
        "### 双対問題の導入\n",
        "\n",
        "先に計算して得られた最適解$(x_1,x_2,x_3)=(12.0,8.0,8.0)$が実行可能解であることは，次の計算で確認することができる．"
      ]
    },
    {
      "cell_type": "code",
      "metadata": {
        "id": "PKyMrDlkxF2C",
        "colab_type": "code",
        "outputId": "27bc4a17-9594-4a1f-ce94-7dc21a4050b7",
        "colab": {
          "base_uri": "https://localhost:8080/",
          "height": 51
        }
      },
      "source": [
        "X=np.array([v.varValue for v in prob.variables()])\n",
        "print(X)\n",
        "np.all(np.abs(b-np.dot(A,X))<=1.0e-5)"
      ],
      "execution_count": 0,
      "outputs": [
        {
          "output_type": "stream",
          "text": [
            "[12.  8.  8.]\n"
          ],
          "name": "stdout"
        },
        {
          "output_type": "execute_result",
          "data": {
            "text/plain": [
              "True"
            ]
          },
          "metadata": {
            "tags": []
          },
          "execution_count": 24
        }
      ]
    },
    {
      "cell_type": "markdown",
      "metadata": {
        "id": "pwu5amQMxeov",
        "colab_type": "text"
      },
      "source": [
        "ここで左辺を０ではなく，少し余裕を持たして非常に小さい値 (1e-5)にしているのは，誤差を認めるためである．浮動小数点での計算は丸め誤差が入るため，理論的には（手計算では）０になる値でも，0ちょうどではなくほんの少しズレた値になることが多い．そこで，b-Axが非常に小さな正の値1e-5よりも小さければ，b<=Axと判定することとしているのである．"
      ]
    },
    {
      "cell_type": "markdown",
      "metadata": {
        "id": "b39djB1TyK7d",
        "colab_type": "text"
      },
      "source": [
        "さて，主問題を\n",
        "\n",
        "最大化 $ \\mathbb{c}^{\\top}  \\mathbb{x} $ \n",
        "\n",
        "条件 $ A\\mathbb{x} \\leq \\mathbb{b}, \\mathbb{x} \\geq  \\mathbb{0} $\n",
        "\n",
        "と表すと，その双対問題は，\n",
        "\n",
        "最小化 $ \\mathbb{b}^{\\top}  \\mathbb{y} $ \n",
        "\n",
        "条件 $ A^{\\top} \\mathbb{y} \\geq \\mathbb{c}, \\mathbb{y} \\geq  \\mathbb{0} $\n",
        "\n",
        "となる。したがって，先ほど線形最適化問題の定義に用いたベクトルと行列を用いて，双対問題を定義できる。\n",
        "\n",
        "\n",
        "\n"
      ]
    },
    {
      "cell_type": "code",
      "metadata": {
        "id": "4IfOuFLo988f",
        "colab_type": "code",
        "outputId": "98b17ffe-6847-4456-9f71-1b8856803595",
        "colab": {
          "base_uri": "https://localhost:8080/",
          "height": 102
        }
      },
      "source": [
        "AT=A.T\n",
        "dual=LpProblem(name='Dual_Production',sense=LpMinimize)\n",
        "y=[LpVariable('y'+str(i+1),lowBound=0) for i in range(m)]\n",
        "dual += lpDot(b,y)\n",
        "for j in range(n):\n",
        "  dual += lpDot(AT[j],y)>=c[j], 'ineq'+str(j) \n",
        "dual.solve()\n",
        "print(LpStatus[dual.status])\n",
        "print('Optimal value of dual problem =',value(dual.objective))\n",
        "for v in dual.variables():\n",
        "  print(v.name,\"=\",v.varValue)"
      ],
      "execution_count": 0,
      "outputs": [
        {
          "output_type": "stream",
          "text": [
            "Optimal\n",
            "Optimal value of dual problem = 5799.999996\n",
            "y1 = 44.444444\n",
            "y2 = 16.666667\n",
            "y3 = 52.777778\n"
          ],
          "name": "stdout"
        }
      ]
    },
    {
      "cell_type": "markdown",
      "metadata": {
        "id": "QkK02caQ-rDQ",
        "colab_type": "text"
      },
      "source": [
        "こうして，双対問題の最適値は元の線形最適化問題（主問題）の最適値と一致することがわかった．\n",
        "得られた解yが実行可能解かどうかは，次の計算で確認することができる．\n",
        "\n"
      ]
    },
    {
      "cell_type": "code",
      "metadata": {
        "id": "GHFKM9Dd-4Tk",
        "colab_type": "code",
        "outputId": "700e82f8-ed77-4d5e-e6ad-5b80fdbeb996",
        "colab": {
          "base_uri": "https://localhost:8080/",
          "height": 34
        }
      },
      "source": [
        "Y=np.array([v.varValue for v in dual.variables()])\n",
        "np.all(np.abs(np.dot(AT,Y)-c)<=1.0e-5)"
      ],
      "execution_count": 0,
      "outputs": [
        {
          "output_type": "execute_result",
          "data": {
            "text/plain": [
              "True"
            ]
          },
          "metadata": {
            "tags": []
          },
          "execution_count": 28
        }
      ]
    },
    {
      "cell_type": "markdown",
      "metadata": {
        "id": "Qt1_SsLh_YBl",
        "colab_type": "text"
      },
      "source": [
        "## A Blending Problem\n",
        "\n",
        "チキン，ビーフ，マトン，米，小麦，ジェル を用いてキャットフードを生産したい．チキン，ビーフ，マトンの１グラムあたりコストは，それぞれ，0.013ドル，0.008ドル，0.010ドルとする．米，小麦，ジェルの１グラムあたりコストは，それぞれ，0.002ドル，0.005ドル，0.001ドルとする．\n",
        "\n",
        "各原料は，タンパク質，脂肪，繊維，塩分に寄与する．１グラムあたりに含まれる各栄養素は，次の通りとする．\n",
        "\n",
        "\n",
        "|  原料  | タンパク質  | 脂肪 |繊維 |塩分 | コスト|\n",
        "| ---- | ---- | ---- |---- |---- |----|\n",
        "|  チキン |  0.100  | 0.080 | 0.001 | 0.002 | 0.013 |\n",
        "|  ビーフ|  0.200  | 0.100 | 0.005 | 0.005 | 0.008 \n",
        "|  マトン|  0.15 | 0.110 | 0.003 | 0.007 | 0.010 \n",
        "|  米|  0.000  | 0.010 |  0.100  | 0.002 | 0.002 |\n",
        "|  小麦|  0.040  | 0.010 |  0.150 | 0.008 | 0.005\n",
        "|  ジェル|  0.0  | 0.0 |  0.0 | 0.0 | 0.001\n",
        "\n",
        "\n",
        "それぞれの栄養素の摂取制限は，次のとおりとする．\n",
        "\n",
        "\n",
        " | タンパク質（以上）  | 脂肪（以上） |繊維（以下） |塩分（以下） |\n",
        "| ---- | ---- | ---- |---- |\n",
        "|  8  |  6  |  2 | 0.4 |\n",
        "\n",
        "\n",
        "この条件を満たすなかで，かかる費用が最小になるように変数の値を決めたい．\n",
        "\n",
        "これを線形最適化問題として定式化する．\n",
        "\n",
        "決定変数は，１缶あたりに入れる各原料の割合とする．こうすると，栄養素に関する制約式は，次のように書かれる:\n",
        "\n",
        "$ 0.100x_1 + 0.200x_2 + 0.150x_3 + 0.000x_4 + 0.040x_5 + 0.0x_6 \\geq 8.0 $\n",
        "\n",
        "$ 0.080x_1 + 0.100x_2 + 0.110x_3 + 0.010x_4 + 0.010x_5 + 0.0x_6 \\geq 6.0 $\n",
        "\n",
        "$ 0.001x_1 + 0.005x_2 + 0.003x_3 + 0.100x_4 + 0.150x_5 + 0.0x_6 \\leq 2.0 $\n",
        "\n",
        "$ 0.002x_1 + 0.005x_2 + 0.007x_3 + 0.002x_4 + 0.008x_5 + 0.0x_6 \\leq 0.4 $\n",
        "\n",
        "また，目的関数は，次のとおりである．\n",
        "\n",
        "$ \\min  0.013x_1 + 0.008x_2 + 0.010 x_3 + 0.002 x_4 + 0.005 x_5 + 0.001 x_6   $\n",
        "\n",
        "この問題では，変数の数が６つと，だいぶ多い．６つの原料と４つの栄養素の値を，添字の番号を頼りに誤りなく設定するのが苦しくなってきた．人間がみてもう少しわかりやすいように， Pythonの辞書を用いて値を設定することとする．\n",
        "\n",
        "まず，栄養素を表すリストを作成する．\n",
        "\n",
        "\n",
        "\n"
      ]
    },
    {
      "cell_type": "code",
      "metadata": {
        "id": "tBBtU2CjF_Ji",
        "colab_type": "code",
        "colab": {}
      },
      "source": [
        "Ingredients=[\"CHICKEN\",\"BEEF\",\"MUTTON\",\"RICE\",\"WHEAT\",\"GEL\"]\n"
      ],
      "execution_count": 0,
      "outputs": []
    },
    {
      "cell_type": "markdown",
      "metadata": {
        "id": "dERKSuVbGLD4",
        "colab_type": "text"
      },
      "source": [
        "Ingredientsの各要素（＝原料）をキーとして，コスト，タンパク質，脂肪，繊維，塩分を表す辞書をそれぞれcosts, proteinPercent,fatPercent,fibrePercent,saltPercentとして定義する．\n",
        "\n"
      ]
    },
    {
      "cell_type": "code",
      "metadata": {
        "id": "tbgXinRcGdQo",
        "colab_type": "code",
        "colab": {}
      },
      "source": [
        "costs = {'CHICKEN': 0.013, \n",
        "         'BEEF': 0.008, \n",
        "         'MUTTON': 0.010, \n",
        "         'RICE': 0.002, \n",
        "         'WHEAT': 0.005, \n",
        "         'GEL': 0.001}\n",
        "\n",
        "# A dictionary of the protein percent in each of the Ingredients is created\n",
        "proteinPercent = {'CHICKEN': 0.100, \n",
        "                  'BEEF': 0.200, \n",
        "                  'MUTTON': 0.150, \n",
        "                  'RICE': 0.000, \n",
        "                  'WHEAT': 0.040, \n",
        "                  'GEL': 0.000}\n",
        "\n",
        "# A dictionary of the fat percent in each of the Ingredients is created\n",
        "fatPercent = {'CHICKEN': 0.080, \n",
        "              'BEEF': 0.100, \n",
        "              'MUTTON': 0.110, \n",
        "              'RICE': 0.010, \n",
        "              'WHEAT': 0.010, \n",
        "              'GEL': 0.000}\n",
        "\n",
        "# A dictionary of the fibre percent in each of the Ingredients is created\n",
        "fibrePercent = {'CHICKEN': 0.001, \n",
        "                'BEEF': 0.005, \n",
        "                'MUTTON': 0.003, \n",
        "                'RICE': 0.100, \n",
        "                'WHEAT': 0.150, \n",
        "                'GEL': 0.000}\n",
        "\n",
        "# A dictionary of the salt percent in each of the Ingredients is created\n",
        "saltPercent = {'CHICKEN': 0.002, \n",
        "               'BEEF': 0.005, \n",
        "               'MUTTON': 0.007, \n",
        "               'RICE': 0.002, \n",
        "               'WHEAT': 0.008, \n",
        "               'GEL': 0.000}"
      ],
      "execution_count": 0,
      "outputs": []
    },
    {
      "cell_type": "code",
      "metadata": {
        "id": "LbpIJ73AGjDt",
        "colab_type": "code",
        "outputId": "6f5464ba-a351-41ea-82ac-9274c5265326",
        "colab": {
          "base_uri": "https://localhost:8080/",
          "height": 34
        }
      },
      "source": [
        "print(saltPercent)"
      ],
      "execution_count": 0,
      "outputs": [
        {
          "output_type": "stream",
          "text": [
            "{'CHICKEN': 0.002, 'BEEF': 0.005, 'MUTTON': 0.007, 'RICE': 0.002, 'WHEAT': 0.008, 'GEL': 0.0}\n"
          ],
          "name": "stdout"
        }
      ]
    },
    {
      "cell_type": "markdown",
      "metadata": {
        "id": "ibOLuVpzGnBl",
        "colab_type": "text"
      },
      "source": [
        "こうすると，どの数値がどの原料のどの栄養素を表すものかの対応が人間がみてわかりやすくなる．例えば，チキンに含まれる塩分の率は，saltPercent[CHICKEN]などとすればよい．\n",
        "\n",
        "\n",
        "さて，まず線形最適化問題の問題オブジェクトを生成する．"
      ]
    },
    {
      "cell_type": "code",
      "metadata": {
        "id": "INUGpA0qG7RB",
        "colab_type": "code",
        "colab": {}
      },
      "source": [
        "prob=LpProblem(\"The Whiskas Problem\",LpMinimize)\n"
      ],
      "execution_count": 0,
      "outputs": []
    },
    {
      "cell_type": "markdown",
      "metadata": {
        "id": "TzgnLn-xHRuZ",
        "colab_type": "text"
      },
      "source": [
        "次に，決定変数オブジェクトを生成するが，ここでは辞書を使った方法を用いる．いま，Ingredientsというリストがあり，このリストの各要素は，原料を表している．そして，決定変数はこの各原料に対して定義したい．そこで，Ingredientsを与えることでその要素それぞれに対して変数を一つずつ定義する命令を用いる．これは，次のようにするとよい:\n",
        "\n"
      ]
    },
    {
      "cell_type": "code",
      "metadata": {
        "id": "51xUKPA4H4sC",
        "colab_type": "code",
        "outputId": "7402c895-9d93-434a-8ebb-222ce5e31453",
        "colab": {
          "base_uri": "https://localhost:8080/",
          "height": 68
        }
      },
      "source": [
        "ingredient_vars=LpVariable.dicts(\"Ingr\",Ingredients,0)\n",
        "print(type(ingredient_vars))\n",
        "print(ingredient_vars)\n",
        "print(type(ingredient_vars['CHICKEN']))"
      ],
      "execution_count": 0,
      "outputs": [
        {
          "output_type": "stream",
          "text": [
            "<class 'dict'>\n",
            "{'CHICKEN': Ingr_CHICKEN, 'BEEF': Ingr_BEEF, 'MUTTON': Ingr_MUTTON, 'RICE': Ingr_RICE, 'WHEAT': Ingr_WHEAT, 'GEL': Ingr_GEL}\n",
            "<class 'pulp.pulp.LpVariable'>\n"
          ],
          "name": "stdout"
        }
      ]
    },
    {
      "cell_type": "markdown",
      "metadata": {
        "id": "_cgo0i40JqFi",
        "colab_type": "text"
      },
      "source": [
        "1行目では，LpVariable.dicts()によって，Ingredientsの各要素をキーとし，それに対応する変数を値とする辞書を生成している．最初の引数は，生成する変数の名前につける接頭辞を指定するものである．２番目の引数は，対応する変数を生成するリストである．こうして生成したingredients_varsの型をtype()で確認すると，確かに辞書 (dict)であることがわかる．また，print(ingredients_vars)によって，キーと値の対応がわかる．例えば，Ingredientsの要素CHIKENに対しては，Ingr_CHICKENという名前の変数が値として生成されている．そして，invredients_varsのキー'CHICKEN'に対する値を ingredients_vars['CHICKEN']で取得し，その型を表示してみると，pulp.pulp.LpVariableとなり，値はLpVariable型であることがわかる． "
      ]
    },
    {
      "cell_type": "markdown",
      "metadata": {
        "id": "Mh-WY6cSSLK9",
        "colab_type": "text"
      },
      "source": [
        "こうして定義した辞書ingredient_varsを用いて，目的関数を定義する．目的関数を定義するのに，PuLPで提供されているlpSum()を用いる．これは，引数に与えたリストの和を求めるものである．引数に与えているのは，\n",
        "\n",
        "[costs[i] * ingredient_vars[i] for i in Ingredients]\n",
        "\n",
        "というリストである．これは，*内包表記*，と言われる表現である．このリストがどういうものか，中身を print()関数で表示してみると，次のようになる:"
      ]
    },
    {
      "cell_type": "code",
      "metadata": {
        "id": "VZD10kHxSkpL",
        "colab_type": "code",
        "outputId": "8f18a807-7bd3-4ebd-cd27-ec5e23880278",
        "colab": {
          "base_uri": "https://localhost:8080/",
          "height": 34
        }
      },
      "source": [
        "print([costs[i] * ingredient_vars[i] for i in Ingredients])\n"
      ],
      "execution_count": 0,
      "outputs": [
        {
          "output_type": "stream",
          "text": [
            "[0.013*Ingr_CHICKEN + 0.0, 0.008*Ingr_BEEF + 0.0, 0.01*Ingr_MUTTON + 0.0, 0.002*Ingr_RICE + 0.0, 0.005*Ingr_WHEAT + 0.0, 0.001*Ingr_GEL + 0.0]\n"
          ],
          "name": "stdout"
        }
      ]
    },
    {
      "cell_type": "markdown",
      "metadata": {
        "id": "U7oz4BEMS2Xa",
        "colab_type": "text"
      },
      "source": [
        "これからわかるように，各要素は，変数に係数がかかったものになっている．例えば，最初の要素は，i=CHICKENに対して，costs['CHICKEN']とingredient_vars['CHICKEN']の積である．辞書costsで，キー'CHICKEN'に対する値costs['CHICKEN']は0.013であるから，0.013*Ingr_CHICKEN + 0.0となっている．このリストの全ての要素の和を求めるのがlpSum()であるから，lpSum([costs[i] * ingredient_vars[i] for i in Ingredients])をprint()で表示すると，次のようになる:"
      ]
    },
    {
      "cell_type": "code",
      "metadata": {
        "id": "q2ai5pzbT2wT",
        "colab_type": "code",
        "outputId": "be319abd-9aa0-4cd8-fff2-ec97f7a75c61",
        "colab": {
          "base_uri": "https://localhost:8080/",
          "height": 34
        }
      },
      "source": [
        "print(lpSum([costs[i] * ingredient_vars[i] for i in Ingredients]))"
      ],
      "execution_count": 0,
      "outputs": [
        {
          "output_type": "stream",
          "text": [
            "0.008*Ingr_BEEF + 0.013*Ingr_CHICKEN + 0.001*Ingr_GEL + 0.01*Ingr_MUTTON + 0.002*Ingr_RICE + 0.005*Ingr_WHEAT\n"
          ],
          "name": "stdout"
        }
      ]
    },
    {
      "cell_type": "markdown",
      "metadata": {
        "id": "uhs_16zvT7pp",
        "colab_type": "text"
      },
      "source": [
        "こうしてコストを表す線形式が得られるので，それを目的関数として設定する．"
      ]
    },
    {
      "cell_type": "code",
      "metadata": {
        "id": "CUUuYIzxLRND",
        "colab_type": "code",
        "colab": {}
      },
      "source": [
        "prob+=lpSum([costs[i]*ingredient_vars[i] for i in Ingredients]),\"Total Cost of Ingredients per can\""
      ],
      "execution_count": 0,
      "outputs": []
    },
    {
      "cell_type": "markdown",
      "metadata": {
        "id": "zXbnZdb1LpqL",
        "colab_type": "text"
      },
      "source": [
        "同じように，lpSum()を用いて制約式を追加する．Ingredientsの各要素に対して係数をかけて足すことは目的関数の場合と同じであるが，変数にかける係数が栄養素によって異なることに注意する．"
      ]
    },
    {
      "cell_type": "code",
      "metadata": {
        "id": "eZ9UHVRwLo--",
        "colab_type": "code",
        "colab": {}
      },
      "source": [
        "prob += lpSum([ingredient_vars[i] for i in Ingredients]) == 100, \"PercentagesSum\"\n",
        "prob += lpSum([proteinPercent[i] * ingredient_vars[i] for i in Ingredients]) >= 8.0, \"ProteinRequirement\"\n",
        "prob += lpSum([fatPercent[i] * ingredient_vars[i] for i in Ingredients]) >= 6.0, \"FatRequirement\"\n",
        "prob += lpSum([fibrePercent[i] * ingredient_vars[i] for i in Ingredients]) <= 2.0, \"FibreRequirement\"\n",
        "prob += lpSum([saltPercent[i] * ingredient_vars[i] for i in Ingredients]) <= 0.4, \"SaltRequirement\"\n"
      ],
      "execution_count": 0,
      "outputs": []
    },
    {
      "cell_type": "markdown",
      "metadata": {
        "id": "Lf82--hKSHVf",
        "colab_type": "text"
      },
      "source": [
        "こうして，キャットフードのコストを最小化する線形最適化問題が定義された． "
      ]
    },
    {
      "cell_type": "code",
      "metadata": {
        "id": "x9NYBMNfUd2j",
        "colab_type": "code",
        "outputId": "c5a82bc3-c522-4cbf-9c6c-11740d5aa91a",
        "colab": {
          "base_uri": "https://localhost:8080/",
          "height": 476
        }
      },
      "source": [
        "print(prob)"
      ],
      "execution_count": 0,
      "outputs": [
        {
          "output_type": "stream",
          "text": [
            "The Whiskas Problem:\n",
            "MINIMIZE\n",
            "0.008*Ingr_BEEF + 0.013*Ingr_CHICKEN + 0.001*Ingr_GEL + 0.01*Ingr_MUTTON + 0.002*Ingr_RICE + 0.005*Ingr_WHEAT + 0.0\n",
            "SUBJECT TO\n",
            "PercentagesSum: Ingr_BEEF + Ingr_CHICKEN + Ingr_GEL + Ingr_MUTTON + Ingr_RICE\n",
            " + Ingr_WHEAT = 100\n",
            "\n",
            "ProteinRequirement: 0.2 Ingr_BEEF + 0.1 Ingr_CHICKEN + 0.15 Ingr_MUTTON\n",
            " + 0.04 Ingr_WHEAT >= 8\n",
            "\n",
            "FatRequirement: 0.1 Ingr_BEEF + 0.08 Ingr_CHICKEN + 0.11 Ingr_MUTTON\n",
            " + 0.01 Ingr_RICE + 0.01 Ingr_WHEAT >= 6\n",
            "\n",
            "FibreRequirement: 0.005 Ingr_BEEF + 0.001 Ingr_CHICKEN + 0.003 Ingr_MUTTON\n",
            " + 0.1 Ingr_RICE + 0.15 Ingr_WHEAT <= 2\n",
            "\n",
            "SaltRequirement: 0.005 Ingr_BEEF + 0.002 Ingr_CHICKEN + 0.007 Ingr_MUTTON\n",
            " + 0.002 Ingr_RICE + 0.008 Ingr_WHEAT <= 0.4\n",
            "\n",
            "VARIABLES\n",
            "Ingr_BEEF Continuous\n",
            "Ingr_CHICKEN Continuous\n",
            "Ingr_GEL Continuous\n",
            "Ingr_MUTTON Continuous\n",
            "Ingr_RICE Continuous\n",
            "Ingr_WHEAT Continuous\n",
            "\n"
          ],
          "name": "stdout"
        }
      ]
    },
    {
      "cell_type": "markdown",
      "metadata": {
        "id": "EASDFSrlUhIE",
        "colab_type": "text"
      },
      "source": [
        "これを解くと，最適解が得られる．"
      ]
    },
    {
      "cell_type": "code",
      "metadata": {
        "id": "yZKYNwisUg4Q",
        "colab_type": "code",
        "outputId": "d2ede554-43c9-4dd3-e446-a93ac484f927",
        "colab": {
          "base_uri": "https://localhost:8080/",
          "height": 153
        }
      },
      "source": [
        "prob.solve()\n",
        "print(LpStatus[prob.status])\n",
        "print('Optimal value of catfood problem =',value(prob.objective))\n",
        "for v in prob.variables():\n",
        "  print(v.name,\"=\",v.varValue)"
      ],
      "execution_count": 0,
      "outputs": [
        {
          "output_type": "stream",
          "text": [
            "Optimal\n",
            "Optimal value of catfood problem = 0.52\n",
            "Ingr_BEEF = 60.0\n",
            "Ingr_CHICKEN = 0.0\n",
            "Ingr_GEL = 40.0\n",
            "Ingr_MUTTON = 0.0\n",
            "Ingr_RICE = 0.0\n",
            "Ingr_WHEAT = 0.0\n"
          ],
          "name": "stdout"
        }
      ]
    },
    {
      "cell_type": "markdown",
      "metadata": {
        "id": "IIoxVuIOVVAe",
        "colab_type": "text"
      },
      "source": [
        "##　輸送最適化問題\n",
        "\n",
        "倉庫群から工場群へ部品を搬送したい．輸送費が最小となる計画を求めたい．\n",
        "\n",
        " \n",
        "\n",
        "*   倉庫群から工場群への輸送量を決めたいので，この量を決定変数とする\n",
        "*   輸送コストを最小化したいので，これを目的関数とする\n",
        "*  各倉庫からの搬出は，供給可能量以下とする必要がある．これを最初の制約条件とする．\n",
        "* 各工場への搬入は，需要量以下としたいので，これを２番目の制約条件とする．\n",
        "\n",
        "\n",
        "\n",
        "\n",
        "\n",
        "\n",
        "\n",
        " \n"
      ]
    },
    {
      "cell_type": "markdown",
      "metadata": {
        "id": "WlYVZB5RWSs0",
        "colab_type": "text"
      },
      "source": [
        "|  輸送費 |  -  | F1 |F2 |F3 | F4| 供給|\n",
        "| ---- | ---- | ---- |---- |---- |----|----|\n",
        "|  倉庫| W1  | 10 | 10 | 11 | 17  |35|\n",
        "|  倉庫| W2  | 16 | 19 | 12 | 14 |41|\n",
        "|  倉庫| W3  | 15 | 12 | 14 | 12 |42 |\n",
        "|  需要|　需要  | 28 | 29 | 31 | 25 |  |\n",
        "\n"
      ]
    },
    {
      "cell_type": "code",
      "metadata": {
        "id": "wlk6V2mWg761",
        "colab_type": "code",
        "colab": {}
      },
      "source": [
        "import numpy as np, pandas as pd\n",
        "from itertools import product\n",
        "from pulp import *\n",
        "np.random.seed(1)\n",
        "nw,nf=3,4\n",
        "pr=list(product(range(nw),range(nf)))\n",
        "supply=np.random.randint(30,50,nw)\n",
        "demand=np.random.randint(20,40,nf)\n",
        "tcost=np.random.randint(10,20,(nw,nf))"
      ],
      "execution_count": 0,
      "outputs": []
    },
    {
      "cell_type": "code",
      "metadata": {
        "id": "Dr4NOcFmowJO",
        "colab_type": "code",
        "outputId": "78a4111a-6658-4bb9-c592-fe1e92f37516",
        "colab": {
          "base_uri": "https://localhost:8080/",
          "height": 119
        }
      },
      "source": [
        "print(supply)\n",
        "print(demand)\n",
        "print(tcost)\n",
        "print(pr)"
      ],
      "execution_count": 0,
      "outputs": [
        {
          "output_type": "stream",
          "text": [
            "[35 41 42]\n",
            "[28 29 31 25]\n",
            "[[10 10 11 17]\n",
            " [16 19 12 14]\n",
            " [15 12 14 12]]\n",
            "[(0, 0), (0, 1), (0, 2), (0, 3), (1, 0), (1, 1), (1, 2), (1, 3), (2, 0), (2, 1), (2, 2), (2, 3)]\n"
          ],
          "name": "stdout"
        }
      ]
    },
    {
      "cell_type": "code",
      "metadata": {
        "id": "FjOuISSRpIoa",
        "colab_type": "code",
        "colab": {}
      },
      "source": [
        ""
      ],
      "execution_count": 0,
      "outputs": []
    },
    {
      "cell_type": "markdown",
      "metadata": {
        "id": "GeSR-Ye6pF2k",
        "colab_type": "text"
      },
      "source": [
        "### pandasを使わないモデル"
      ]
    },
    {
      "cell_type": "code",
      "metadata": {
        "id": "4VERVKbXpJWH",
        "colab_type": "code",
        "outputId": "2fc9dcb0-63b9-4984-c397-7ef872f9709b",
        "colab": {
          "base_uri": "https://localhost:8080/",
          "height": 683
        }
      },
      "source": [
        "m1=LpProblem()\n",
        "v1={(i,j):LpVariable('v%d_%d'%(i,j),lowBound=0) for i,j in pr}\n",
        "m1+=lpSum(tcost[i][j]*v1[i,j] for i,j in pr)\n",
        "for i in range(nw):\n",
        "  m1+=lpSum(v1[i,j] for j in range(nf)) <= supply[i]\n",
        "for j in range(nf):\n",
        "  m1+=lpSum(v1[i,j] for i in range(nw)) >= demand[j] \n",
        "print(m1)\n",
        "m1.solve()\n",
        "{k:value(x) for k,x in v1.items() if value(x)>0}"
      ],
      "execution_count": 0,
      "outputs": [
        {
          "output_type": "stream",
          "text": [
            "NoName:\n",
            "MINIMIZE\n",
            "10*v0_0 + 10*v0_1 + 11*v0_2 + 17*v0_3 + 16*v1_0 + 19*v1_1 + 12*v1_2 + 14*v1_3 + 15*v2_0 + 12*v2_1 + 14*v2_2 + 12*v2_3 + 0\n",
            "SUBJECT TO\n",
            "_C1: v0_0 + v0_1 + v0_2 + v0_3 <= 35\n",
            "\n",
            "_C2: v1_0 + v1_1 + v1_2 + v1_3 <= 41\n",
            "\n",
            "_C3: v2_0 + v2_1 + v2_2 + v2_3 <= 42\n",
            "\n",
            "_C4: v0_0 + v1_0 + v2_0 >= 28\n",
            "\n",
            "_C5: v0_1 + v1_1 + v2_1 >= 29\n",
            "\n",
            "_C6: v0_2 + v1_2 + v2_2 >= 31\n",
            "\n",
            "_C7: v0_3 + v1_3 + v2_3 >= 25\n",
            "\n",
            "VARIABLES\n",
            "v0_0 Continuous\n",
            "v0_1 Continuous\n",
            "v0_2 Continuous\n",
            "v0_3 Continuous\n",
            "v1_0 Continuous\n",
            "v1_1 Continuous\n",
            "v1_2 Continuous\n",
            "v1_3 Continuous\n",
            "v2_0 Continuous\n",
            "v2_1 Continuous\n",
            "v2_2 Continuous\n",
            "v2_3 Continuous\n",
            "\n"
          ],
          "name": "stdout"
        },
        {
          "output_type": "execute_result",
          "data": {
            "text/plain": [
              "{(0, 0): 28.0,\n",
              " (0, 1): 7.0,\n",
              " (1, 2): 31.0,\n",
              " (1, 3): 5.0,\n",
              " (2, 1): 22.0,\n",
              " (2, 3): 20.0}"
            ]
          },
          "metadata": {
            "tags": []
          },
          "execution_count": 47
        }
      ]
    },
    {
      "cell_type": "markdown",
      "metadata": {
        "id": "NI49GFDGqMeo",
        "colab_type": "text"
      },
      "source": [
        "### pandasを使ったモデル\n"
      ]
    },
    {
      "cell_type": "code",
      "metadata": {
        "id": "yiFtGB2nqP0k",
        "colab_type": "code",
        "outputId": "f9159326-9808-45ac-c946-991b6eedb6e1",
        "colab": {
          "base_uri": "https://localhost:8080/",
          "height": 238
        }
      },
      "source": [
        "a=pd.DataFrame([(i,j) for i,j in pr], columns = ['倉庫','工場'])\n",
        "a['輸送費']=tcost.flatten()\n",
        "print(a)"
      ],
      "execution_count": 0,
      "outputs": [
        {
          "output_type": "stream",
          "text": [
            "    倉庫  工場  輸送費\n",
            "0    0   0   10\n",
            "1    0   1   10\n",
            "2    0   2   11\n",
            "3    0   3   17\n",
            "4    1   0   16\n",
            "5    1   1   19\n",
            "6    1   2   12\n",
            "7    1   3   14\n",
            "8    2   0   15\n",
            "9    2   1   12\n",
            "10   2   2   14\n",
            "11   2   3   12\n"
          ],
          "name": "stdout"
        }
      ]
    },
    {
      "cell_type": "markdown",
      "metadata": {
        "id": "2gsgB8zJqq-B",
        "colab_type": "text"
      },
      "source": [
        "prは，タプルを要素とするリストである． このprから，pandasのDataFrameとしてaを作る．pd.DataFrame([(i,j) for i,j in pr])によって，prの各要素（ (0,0)のようなタプル )を順に番号をつけて並べたデータ構造ができるが，columns = ['倉庫','工場']を引数に加えることで，最初の値が倉庫，２番目の値が工場を表すという情報を加えることができる．"
      ]
    },
    {
      "cell_type": "code",
      "metadata": {
        "id": "iThB5nkxqsZn",
        "colab_type": "code",
        "outputId": "ccd205b6-3e7e-4e87-e0c8-1310ce513bb0",
        "colab": {
          "base_uri": "https://localhost:8080/",
          "height": 255
        }
      },
      "source": [
        "print(pr)\n",
        "a=pd.DataFrame([(i,j) for i,j in pr], columns = ['倉庫','工場'])\n",
        "print(a)"
      ],
      "execution_count": 0,
      "outputs": [
        {
          "output_type": "stream",
          "text": [
            "[(0, 0), (0, 1), (0, 2), (0, 3), (1, 0), (1, 1), (1, 2), (1, 3), (2, 0), (2, 1), (2, 2), (2, 3)]\n",
            "    倉庫  工場\n",
            "0    0   0\n",
            "1    0   1\n",
            "2    0   2\n",
            "3    0   3\n",
            "4    1   0\n",
            "5    1   1\n",
            "6    1   2\n",
            "7    1   3\n",
            "8    2   0\n",
            "9    2   1\n",
            "10   2   2\n",
            "11   2   3\n"
          ],
          "name": "stdout"
        }
      ]
    },
    {
      "cell_type": "markdown",
      "metadata": {
        "id": "6UvPYj07rdUJ",
        "colab_type": "text"
      },
      "source": [
        "こうして作ったデータフレームに，輸送費と名付けた列(column)を追加し，その値を順にtcostの値とするのがa['輸送費']=tcost.flatten()である．"
      ]
    },
    {
      "cell_type": "code",
      "metadata": {
        "id": "rN3xRfz1rGYI",
        "colab_type": "code",
        "outputId": "4e89607e-7ab2-438c-8007-92f0f8e79dea",
        "colab": {
          "base_uri": "https://localhost:8080/",
          "height": 85
        }
      },
      "source": [
        "print(\"tcost:\",tcost)\n",
        "print(\"tcost.flatten():\", tcost.flatten())\n",
        "a['輸送費']=tcost.flatten()\n"
      ],
      "execution_count": 0,
      "outputs": [
        {
          "output_type": "stream",
          "text": [
            "tcost: [[10 10 11 17]\n",
            " [16 19 12 14]\n",
            " [15 12 14 12]]\n",
            "tcost.flatten(): [10 10 11 17 16 19 12 14 15 12 14 12]\n"
          ],
          "name": "stdout"
        }
      ]
    },
    {
      "cell_type": "markdown",
      "metadata": {
        "id": "uVD0L46fsUYS",
        "colab_type": "text"
      },
      "source": [
        "このデータフレームを使って先ほどと同じ線形最適化問題を作るには，次のようにする．"
      ]
    },
    {
      "cell_type": "code",
      "metadata": {
        "id": "MuOSY2Krsa9i",
        "colab_type": "code",
        "outputId": "c7321f16-8f51-4dd4-8cd2-5b79427aeb7d",
        "colab": {
          "base_uri": "https://localhost:8080/",
          "height": 1000
        }
      },
      "source": [
        "m2=LpProblem()\n",
        "a['Var']=[LpVariable('v%d'%i,lowBound=0) for i in a.index]\n",
        "print(a)\n",
        "m2+=lpDot(a.輸送費,a.Var)\n",
        "for k,v in a.groupby('倉庫'):\n",
        "                     m2+=lpSum(v.Var)<=supply[k]\n",
        "for k,v in a.groupby('工場'):\n",
        "                     m2+=lpSum(v.Var)>=demand[k]\n",
        "print(m2)\n",
        "m2.solve()\n",
        "a['Val']=a.Var.apply(value)\n",
        "a[a.Val>0]"
      ],
      "execution_count": 0,
      "outputs": [
        {
          "output_type": "stream",
          "text": [
            "    倉庫  工場  輸送費  Var   Val\n",
            "0    0   0   10   v0  28.0\n",
            "1    0   1   10   v1   7.0\n",
            "2    0   2   11   v2   0.0\n",
            "3    0   3   17   v3   0.0\n",
            "4    1   0   16   v4   0.0\n",
            "5    1   1   19   v5   0.0\n",
            "6    1   2   12   v6  31.0\n",
            "7    1   3   14   v7   5.0\n",
            "8    2   0   15   v8   0.0\n",
            "9    2   1   12   v9  22.0\n",
            "10   2   2   14  v10   0.0\n",
            "11   2   3   12  v11  20.0\n",
            "NoName:\n",
            "MINIMIZE\n",
            "10*v0 + 10*v1 + 14*v10 + 12*v11 + 11*v2 + 17*v3 + 16*v4 + 19*v5 + 12*v6 + 14*v7 + 15*v8 + 12*v9 + 0\n",
            "SUBJECT TO\n",
            "_C1: v0 + v1 + v2 + v3 <= 35\n",
            "\n",
            "_C2: v4 + v5 + v6 + v7 <= 41\n",
            "\n",
            "_C3: v10 + v11 + v8 + v9 <= 42\n",
            "\n",
            "_C4: v0 + v4 + v8 >= 28\n",
            "\n",
            "_C5: v1 + v5 + v9 >= 29\n",
            "\n",
            "_C6: v10 + v2 + v6 >= 31\n",
            "\n",
            "_C7: v11 + v3 + v7 >= 25\n",
            "\n",
            "VARIABLES\n",
            "v0 Continuous\n",
            "v1 Continuous\n",
            "v10 Continuous\n",
            "v11 Continuous\n",
            "v2 Continuous\n",
            "v3 Continuous\n",
            "v4 Continuous\n",
            "v5 Continuous\n",
            "v6 Continuous\n",
            "v7 Continuous\n",
            "v8 Continuous\n",
            "v9 Continuous\n",
            "\n"
          ],
          "name": "stdout"
        },
        {
          "output_type": "execute_result",
          "data": {
            "text/html": [
              "<div>\n",
              "<style scoped>\n",
              "    .dataframe tbody tr th:only-of-type {\n",
              "        vertical-align: middle;\n",
              "    }\n",
              "\n",
              "    .dataframe tbody tr th {\n",
              "        vertical-align: top;\n",
              "    }\n",
              "\n",
              "    .dataframe thead th {\n",
              "        text-align: right;\n",
              "    }\n",
              "</style>\n",
              "<table border=\"1\" class=\"dataframe\">\n",
              "  <thead>\n",
              "    <tr style=\"text-align: right;\">\n",
              "      <th></th>\n",
              "      <th>倉庫</th>\n",
              "      <th>工場</th>\n",
              "      <th>輸送費</th>\n",
              "      <th>Var</th>\n",
              "      <th>Val</th>\n",
              "    </tr>\n",
              "  </thead>\n",
              "  <tbody>\n",
              "    <tr>\n",
              "      <th>0</th>\n",
              "      <td>0</td>\n",
              "      <td>0</td>\n",
              "      <td>10</td>\n",
              "      <td>v0</td>\n",
              "      <td>28.0</td>\n",
              "    </tr>\n",
              "    <tr>\n",
              "      <th>1</th>\n",
              "      <td>0</td>\n",
              "      <td>1</td>\n",
              "      <td>10</td>\n",
              "      <td>v1</td>\n",
              "      <td>7.0</td>\n",
              "    </tr>\n",
              "    <tr>\n",
              "      <th>6</th>\n",
              "      <td>1</td>\n",
              "      <td>2</td>\n",
              "      <td>12</td>\n",
              "      <td>v6</td>\n",
              "      <td>31.0</td>\n",
              "    </tr>\n",
              "    <tr>\n",
              "      <th>7</th>\n",
              "      <td>1</td>\n",
              "      <td>3</td>\n",
              "      <td>14</td>\n",
              "      <td>v7</td>\n",
              "      <td>5.0</td>\n",
              "    </tr>\n",
              "    <tr>\n",
              "      <th>9</th>\n",
              "      <td>2</td>\n",
              "      <td>1</td>\n",
              "      <td>12</td>\n",
              "      <td>v9</td>\n",
              "      <td>22.0</td>\n",
              "    </tr>\n",
              "    <tr>\n",
              "      <th>11</th>\n",
              "      <td>2</td>\n",
              "      <td>3</td>\n",
              "      <td>12</td>\n",
              "      <td>v11</td>\n",
              "      <td>20.0</td>\n",
              "    </tr>\n",
              "  </tbody>\n",
              "</table>\n",
              "</div>"
            ],
            "text/plain": [
              "    倉庫  工場  輸送費  Var   Val\n",
              "0    0   0   10   v0  28.0\n",
              "1    0   1   10   v1   7.0\n",
              "6    1   2   12   v6  31.0\n",
              "7    1   3   14   v7   5.0\n",
              "9    2   1   12   v9  22.0\n",
              "11   2   3   12  v11  20.0"
            ]
          },
          "metadata": {
            "tags": []
          },
          "execution_count": 53
        }
      ]
    },
    {
      "cell_type": "markdown",
      "metadata": {
        "id": "x3_I-LSBaUdr",
        "colab_type": "text"
      },
      "source": [
        "|  地域  | 児童数  | 4年生の人数 |5年生の人数|6年生の人数 | 学校1へのコスト| 学校２へのコスト|学校３へのコスト\n",
        "| ---- | ---- | ---- |---- |---- |----|----|---|\n",
        "|  1 | 450  | 144 | 171 | 135 | 300  |0|700|\n",
        "|  2 | 600  | 222| 168| 210 | -  |400|500|\n",
        "|  3 |550  | 165 | 176 | 209 | 600  |300 |200|\n",
        "|  4|350  | 98 | 140 | 112 | 200  | 500 |-|\n",
        "|  5|　500  | 195 | 170 | 135 | 0 |  - |400|\n",
        "|  6|　450  | 153 | 126 | 171 | 500 | 300  |0|\n",
        "\n"
      ]
    },
    {
      "cell_type": "markdown",
      "metadata": {
        "id": "fJKYRn_EZ9lF",
        "colab_type": "text"
      },
      "source": [
        "# 演習問題\n",
        "\n",
        "## 子どもたちを学校に送り届けましょう\n",
        "\n",
        "６つの地域にいる子どもたちを，３つの学校にバスで送り届けましょう．\n"
      ]
    },
    {
      "cell_type": "markdown",
      "metadata": {
        "id": "y8tpaMnUeKO5",
        "colab_type": "text"
      },
      "source": [
        "| 学校1の受入可能数| 学校２の受入可能数|学校３の受入可能数|\n",
        "| ---- | ---- | ---- |\n",
        "|  900 | 110  | 1000 |"
      ]
    },
    {
      "cell_type": "markdown",
      "metadata": {
        "id": "rIA5XRwzcBbO",
        "colab_type": "text"
      },
      "source": [
        "教育委員会は，ある小学校の閉校を決めました．まだ在学している4,5,6年生（地域1から6に住んでいる）を，近隣の小学校（学校1,2,3）に割り当てる必要があります．遠方のため，バスで送迎することにしました．送迎のコストは，上に示した通りです．０は，徒歩で通学可能なためバスの費用は発生しないことを表します．また，\"-\"は，割り当てが不可能なことを表します．バスの総費用が最小になるようにするには，どのように割り当てればよいでしょうか．\n",
        "\n",
        "制約として，次のものがあります。\n",
        "\n",
        "  - 各学校において，割り当てられる各学年の人数は，割り当てられる人数全体（学年全部）の人数の30％から36%の間におさまらなければならない．\n",
        "\n",
        "  - 各学校に割り当てられる児童数は，受入可能数以下でなければならない．\n",
        "  \n",
        "  - 各地域の各学年の児童は，全員いずれかの学校に割り当てられていなければならない．\n",
        "  \n",
        "  "
      ]
    },
    {
      "cell_type": "markdown",
      "metadata": {
        "id": "A1v1-reVBtPq",
        "colab_type": "text"
      },
      "source": [
        "６つの地域のそれぞれから，３つの学校に送迎する費用は，学年ごとに表のように与えられる:\n",
        "\n",
        "|地域|児童数|4年生|５年生|6年生|学校1へ|学校2へ|学校3へ|\n",
        "|---|:---:|---:|---:|---:|---:|---:|---:|\n",
        "|1|450|144|171|135|300|0|700|\n",
        "|2|600|222|168|210|-|400|500|\n",
        "|3|550|165|176|209|600|300|200|\n",
        "|4|350|98|140|112|200|500|-|\n",
        "|5|500|195|170|135|0|-|400|\n",
        "|6|450|153|126|171|500|300|0|\n",
        "\n",
        "\n",
        "\n",
        "\n"
      ]
    },
    {
      "cell_type": "markdown",
      "metadata": {
        "id": "TdWGRK0WER-W",
        "colab_type": "text"
      },
      "source": [
        "ここで，-は割り当てが不可能なことを示し，0はバス移動は必要ない（コスト0）であることを表している．\n",
        "\n"
      ]
    },
    {
      "cell_type": "markdown",
      "metadata": {
        "id": "ByABR9kTEXaQ",
        "colab_type": "text"
      },
      "source": [
        "演習１\n",
        "\n",
        "上記の問題を，線形最適化問題として定式化せよ（数式として具体的に書け）\n",
        "\n",
        "ヒント: 　次の変数を定義して決定変数とする\n",
        "\n",
        "$x_{ij}$: 学校$j$に割り当てる地域$i$の4年生の人数\n",
        "\n",
        "$s_{ij}$: 学校$j$に割り当てる地域$i$の5年生の人数\n",
        "\n",
        "$e_{ij}$: 学校$j$に割り当てる地域$i$の6年生の人数\n"
      ]
    },
    {
      "cell_type": "markdown",
      "metadata": {
        "id": "ZxO8QlxKEhE6",
        "colab_type": "text"
      },
      "source": [
        "演習2 \n",
        " 演習１で得られた線形最適化問題を，PuLPを用いて表し，最適解を求めよ．"
      ]
    },
    {
      "cell_type": "code",
      "metadata": {
        "id": "lM4lbC9QaUFt",
        "colab_type": "code",
        "colab": {}
      },
      "source": [
        ""
      ],
      "execution_count": 0,
      "outputs": []
    }
  ]
}