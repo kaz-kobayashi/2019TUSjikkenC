{
  "nbformat": 4,
  "nbformat_minor": 0,
  "metadata": {
    "colab": {
      "name": "190621-linearprogramming.ipynb",
      "version": "0.3.2",
      "provenance": [],
      "include_colab_link": true
    },
    "kernelspec": {
      "name": "python3",
      "display_name": "Python 3"
    }
  },
  "cells": [
    {
      "cell_type": "markdown",
      "metadata": {
        "id": "view-in-github",
        "colab_type": "text"
      },
      "source": [
        "<a href=\"https://colab.research.google.com/github/kaz-kobayashi/2019TUSjikkenC/blob/master/190621_linearprogramming.ipynb\" target=\"_parent\"><img src=\"https://colab.research.google.com/assets/colab-badge.svg\" alt=\"Open In Colab\"/></a>"
      ]
    },
    {
      "cell_type": "code",
      "metadata": {
        "id": "vEUncBDNxCmF",
        "colab_type": "code",
        "colab": {
          "base_uri": "https://localhost:8080/",
          "height": 208
        },
        "outputId": "2440ba4f-1161-453c-bd3a-9b9078f70b68"
      },
      "source": [
        "!pip install pulp"
      ],
      "execution_count": 1,
      "outputs": [
        {
          "output_type": "stream",
          "text": [
            "Collecting pulp\n",
            "\u001b[?25l  Downloading https://files.pythonhosted.org/packages/2d/33/3ae6d9d2ac8c7068937af6372fd8828ac605e62a8b17106fe57110930d38/PuLP-1.6.10.zip (13.6MB)\n",
            "\u001b[K     |████████████████████████████████| 13.6MB 4.4MB/s \n",
            "\u001b[?25hRequirement already satisfied: pyparsing>=2.0.1 in /usr/local/lib/python3.6/dist-packages (from pulp) (2.4.0)\n",
            "Building wheels for collected packages: pulp\n",
            "  Building wheel for pulp (setup.py) ... \u001b[?25l\u001b[?25hdone\n",
            "  Stored in directory: /root/.cache/pip/wheels/5e/76/77/e28b22219e46e3b4b033f02e8b36b2770ae545bdcf60c2b224\n",
            "Successfully built pulp\n",
            "Installing collected packages: pulp\n",
            "Successfully installed pulp-1.6.10\n"
          ],
          "name": "stdout"
        }
      ]
    },
    {
      "cell_type": "code",
      "metadata": {
        "id": "8HvF12E4xOLJ",
        "colab_type": "code",
        "colab": {}
      },
      "source": [
        "from pulp import *"
      ],
      "execution_count": 0,
      "outputs": []
    },
    {
      "cell_type": "code",
      "metadata": {
        "id": "-PmAG_FeyYHW",
        "colab_type": "code",
        "colab": {}
      },
      "source": [
        "Area,School=[1,2,3,4,5,6],[1,2,3]"
      ],
      "execution_count": 0,
      "outputs": []
    },
    {
      "cell_type": "code",
      "metadata": {
        "id": "x7nCP6Q0wdPp",
        "colab_type": "code",
        "colab": {}
      },
      "source": [
        "x=LpVariable.dicts(\"x\",(Area,School),0,10000,'Integer')\n",
        "s=LpVariable.dicts(\"s\",(Area,School),0,10000,'Integer')\n",
        "e=LpVariable.dicts(\"e\",(Area,School),0,10000,'Integer')"
      ],
      "execution_count": 0,
      "outputs": []
    },
    {
      "cell_type": "code",
      "metadata": {
        "id": "AiioYOHQ1OeJ",
        "colab_type": "code",
        "colab": {
          "base_uri": "https://localhost:8080/",
          "height": 34
        },
        "outputId": "994f1b2a-2896-4ac9-f6cd-9eac2dec3ce5"
      },
      "source": [
        "x[1][2]"
      ],
      "execution_count": 32,
      "outputs": [
        {
          "output_type": "execute_result",
          "data": {
            "text/plain": [
              "x_1_2"
            ]
          },
          "metadata": {
            "tags": []
          },
          "execution_count": 32
        }
      ]
    },
    {
      "cell_type": "code",
      "metadata": {
        "id": "Rclzar_c0y88",
        "colab_type": "code",
        "colab": {
          "base_uri": "https://localhost:8080/",
          "height": 740
        },
        "outputId": "95552692-f67c-42a5-b908-3801fc66510d"
      },
      "source": [
        "prob=LpProblem(name=\"SA\",sense=LpMinimize)\n",
        "p=\"\"\n",
        "for i in Area:\n",
        "    for j in School:\n",
        "      p+=C[i-1][j-1]*(x[i][j]+s[i][j]+e[i][j])\n",
        "prob+=p\n",
        "#xvar=[x[1][i] for i in x[1]]\n",
        "#print(C[0]*xvar)\n",
        "print(prob)"
      ],
      "execution_count": 55,
      "outputs": [
        {
          "output_type": "stream",
          "text": [
            "SA:\n",
            "MINIMIZE\n",
            "300*e_1_1 + 700*e_1_3 + 400*e_2_2 + 500*e_2_3 + 600*e_3_1 + 300*e_3_2 + 200*e_3_3 + 200*e_4_1 + 500*e_4_2 + 400*e_5_3 + 500*e_6_1 + 300*e_6_2 + 300*s_1_1 + 700*s_1_3 + 400*s_2_2 + 500*s_2_3 + 600*s_3_1 + 300*s_3_2 + 200*s_3_3 + 200*s_4_1 + 500*s_4_2 + 400*s_5_3 + 500*s_6_1 + 300*s_6_2 + 300*x_1_1 + 700*x_1_3 + 400*x_2_2 + 500*x_2_3 + 600*x_3_1 + 300*x_3_2 + 200*x_3_3 + 200*x_4_1 + 500*x_4_2 + 400*x_5_3 + 500*x_6_1 + 300*x_6_2 + 0\n",
            "VARIABLES\n",
            "0 <= e_1_1 <= 10000 Integer\n",
            "0 <= e_1_3 <= 10000 Integer\n",
            "0 <= e_2_2 <= 10000 Integer\n",
            "0 <= e_2_3 <= 10000 Integer\n",
            "0 <= e_3_1 <= 10000 Integer\n",
            "0 <= e_3_2 <= 10000 Integer\n",
            "0 <= e_3_3 <= 10000 Integer\n",
            "0 <= e_4_1 <= 10000 Integer\n",
            "0 <= e_4_2 <= 10000 Integer\n",
            "0 <= e_5_3 <= 10000 Integer\n",
            "0 <= e_6_1 <= 10000 Integer\n",
            "0 <= e_6_2 <= 10000 Integer\n",
            "0 <= s_1_1 <= 10000 Integer\n",
            "0 <= s_1_3 <= 10000 Integer\n",
            "0 <= s_2_2 <= 10000 Integer\n",
            "0 <= s_2_3 <= 10000 Integer\n",
            "0 <= s_3_1 <= 10000 Integer\n",
            "0 <= s_3_2 <= 10000 Integer\n",
            "0 <= s_3_3 <= 10000 Integer\n",
            "0 <= s_4_1 <= 10000 Integer\n",
            "0 <= s_4_2 <= 10000 Integer\n",
            "0 <= s_5_3 <= 10000 Integer\n",
            "0 <= s_6_1 <= 10000 Integer\n",
            "0 <= s_6_2 <= 10000 Integer\n",
            "0 <= x_1_1 <= 10000 Integer\n",
            "0 <= x_1_3 <= 10000 Integer\n",
            "0 <= x_2_2 <= 10000 Integer\n",
            "0 <= x_2_3 <= 10000 Integer\n",
            "0 <= x_3_1 <= 10000 Integer\n",
            "0 <= x_3_2 <= 10000 Integer\n",
            "0 <= x_3_3 <= 10000 Integer\n",
            "0 <= x_4_1 <= 10000 Integer\n",
            "0 <= x_4_2 <= 10000 Integer\n",
            "0 <= x_5_3 <= 10000 Integer\n",
            "0 <= x_6_1 <= 10000 Integer\n",
            "0 <= x_6_2 <= 10000 Integer\n",
            "\n"
          ],
          "name": "stdout"
        }
      ]
    },
    {
      "cell_type": "code",
      "metadata": {
        "id": "1Xx_3wYQ1rGM",
        "colab_type": "code",
        "colab": {
          "base_uri": "https://localhost:8080/",
          "height": 51
        },
        "outputId": "c5898585-399c-4933-af71-5d4492ff8d71"
      },
      "source": [
        "print(C[1])\n",
        "print(x[1])"
      ],
      "execution_count": 42,
      "outputs": [
        {
          "output_type": "stream",
          "text": [
            "[  0 400 500]\n",
            "{1: x_1_1, 2: x_1_2, 3: x_1_3}\n"
          ],
          "name": "stdout"
        }
      ]
    },
    {
      "cell_type": "code",
      "metadata": {
        "id": "mF1AqaXPzG-W",
        "colab_type": "code",
        "colab": {}
      },
      "source": [
        "import numpy as np"
      ],
      "execution_count": 0,
      "outputs": []
    },
    {
      "cell_type": "code",
      "metadata": {
        "id": "mQGA-FFfzKjj",
        "colab_type": "code",
        "colab": {}
      },
      "source": [
        "C=np.array([\\\n",
        "            [300,0,700],\\\n",
        "            [0,400,500],\\\n",
        "            [600,300,200],\\\n",
        "            [200,500,0],\\\n",
        "            [0,0,400],\\\n",
        "            [500,300,0]\\\n",
        "           ])"
      ],
      "execution_count": 0,
      "outputs": []
    },
    {
      "cell_type": "code",
      "metadata": {
        "id": "g0slD_jT0RJd",
        "colab_type": "code",
        "colab": {}
      },
      "source": [
        "prob=LpProblem(name='SA',sense=LpMinimize)"
      ],
      "execution_count": 0,
      "outputs": []
    },
    {
      "cell_type": "code",
      "metadata": {
        "id": "OBEjpBnS0een",
        "colab_type": "code",
        "colab": {}
      },
      "source": [
        ""
      ],
      "execution_count": 0,
      "outputs": []
    },
    {
      "cell_type": "code",
      "metadata": {
        "id": "jCY_l1k7zk36",
        "colab_type": "code",
        "colab": {
          "base_uri": "https://localhost:8080/",
          "height": 120
        },
        "outputId": "de3d03ea-9e53-4096-bf0d-f1aa794890a1"
      },
      "source": [
        "print(C)"
      ],
      "execution_count": 27,
      "outputs": [
        {
          "output_type": "stream",
          "text": [
            "[[300   0 700]\n",
            " [  0 400 500]\n",
            " [600 300 200]\n",
            " [200 500   0]\n",
            " [  0   0 400]\n",
            " [500 300   0]]\n"
          ],
          "name": "stdout"
        }
      ]
    },
    {
      "cell_type": "code",
      "metadata": {
        "id": "OJdt325GxTzc",
        "colab_type": "code",
        "colab": {
          "base_uri": "https://localhost:8080/",
          "height": 120
        },
        "outputId": "0de6926f-b473-4d0a-cc0a-da3d821e8ca1"
      },
      "source": [
        "x.keys()\n",
        "for i in [1,2,3,4,5,6]:\n",
        "    print(i,x[i])"
      ],
      "execution_count": 57,
      "outputs": [
        {
          "output_type": "stream",
          "text": [
            "1 {1: x_1_1, 2: x_1_2, 3: x_1_3}\n",
            "2 {1: x_2_1, 2: x_2_2, 3: x_2_3}\n",
            "3 {1: x_3_1, 2: x_3_2, 3: x_3_3}\n",
            "4 {1: x_4_1, 2: x_4_2, 3: x_4_3}\n",
            "5 {1: x_5_1, 2: x_5_2, 3: x_5_3}\n",
            "6 {1: x_6_1, 2: x_6_2, 3: x_6_3}\n"
          ],
          "name": "stdout"
        }
      ]
    },
    {
      "cell_type": "code",
      "metadata": {
        "id": "TNtE_mu_9qkL",
        "colab_type": "code",
        "colab": {}
      },
      "source": [
        "capa=[900,1100,1000]\n",
        "prob=LpProblem(name='SA',sense=LpMinimize)\n",
        "sum1=\"\"\n",
        "for k in School:\n",
        "    sum1=\"\"\n",
        "    for i in Area:\n",
        "        sum1+=x[i][k]+s[i][k]+e[i][k]\n",
        "    prob+=sum1<=capa[k-1]\n"
      ],
      "execution_count": 0,
      "outputs": []
    },
    {
      "cell_type": "code",
      "metadata": {
        "id": "7rJJ8Hpl93a9",
        "colab_type": "code",
        "colab": {}
      },
      "source": [
        "print(prob)"
      ],
      "execution_count": 0,
      "outputs": []
    },
    {
      "cell_type": "code",
      "metadata": {
        "id": "WzwqhA2f_qwE",
        "colab_type": "code",
        "colab": {}
      },
      "source": [
        "p=\"\"\n",
        "xcard=[144,222,165,98,195,153]\n",
        "scard=[171,168,176,140,170,126]\n",
        "ecard=[135,210,209,112,135,171]\n",
        "for i in Area:\n",
        "    prob+=lpSum([ x[i][j] for j in School] )==xcard[i-1]\n",
        "    prob+=lpSum([ s[i][j] for j in School] )==scard[i-1]\n",
        "    prob+=lpSum([ e[i][j] for j in School] )==ecard[i-1]"
      ],
      "execution_count": 0,
      "outputs": []
    },
    {
      "cell_type": "code",
      "metadata": {
        "id": "8ZhsoG94_qj2",
        "colab_type": "code",
        "colab": {}
      },
      "source": [
        "print(prob)"
      ],
      "execution_count": 0,
      "outputs": []
    },
    {
      "cell_type": "code",
      "metadata": {
        "id": "hKRv2CRG6xWF",
        "colab_type": "code",
        "colab": {
          "base_uri": "https://localhost:8080/",
          "height": 54
        },
        "outputId": "1cb6af55-b844-42ba-e6f6-6e06a1c21dc7"
      },
      "source": [
        "sum1,sum2,sum3=\"\",\"\",\"\"\n",
        "ssum=[\"\",\"\",\"\"]\n",
        "for j in range(3):\n",
        "    for i in range(6):\n",
        "        sum1+=x[i+1][1]\n",
        "        sum1+=s[i+1][1]\n",
        "        sum1+=e[i+1][1]\n",
        "for i in range(6):\n",
        "    sum2+=x[i+1][2]\n",
        "    sum2+=s[i+1][2]\n",
        "    sum2+=e[i+1][2]\n",
        "for i in range(6):\n",
        "    sum3+=x[i+1][3]\n",
        "    sum3+=s[i+1][3]\n",
        "    sum3+=e[i+1][3]    \n",
        "ssum=[sum1,sum2,sum3]\n",
        "\n",
        "print(ssum)\n",
        "    "
      ],
      "execution_count": 83,
      "outputs": [
        {
          "output_type": "stream",
          "text": [
            "[1*e_1_1 + 1*e_2_1 + 1*e_3_1 + 1*e_4_1 + 1*e_5_1 + 1*e_6_1 + 1*s_1_1 + 1*s_2_1 + 1*s_3_1 + 1*s_4_1 + 1*s_5_1 + 1*s_6_1 + 1*x_1_1 + 1*x_2_1 + 1*x_3_1 + 1*x_4_1 + 1*x_5_1 + 1*x_6_1 + 0, 1*e_1_2 + 1*e_2_2 + 1*e_3_2 + 1*e_4_2 + 1*e_5_2 + 1*e_6_2 + 1*s_1_2 + 1*s_2_2 + 1*s_3_2 + 1*s_4_2 + 1*s_5_2 + 1*s_6_2 + 1*x_1_2 + 1*x_2_2 + 1*x_3_2 + 1*x_4_2 + 1*x_5_2 + 1*x_6_2 + 0, 1*e_1_3 + 1*e_2_3 + 1*e_3_3 + 1*e_4_3 + 1*e_5_3 + 1*e_6_3 + 1*s_1_3 + 1*s_2_3 + 1*s_3_3 + 1*s_4_3 + 1*s_5_3 + 1*s_6_3 + 1*x_1_3 + 1*x_2_3 + 1*x_3_3 + 1*x_4_3 + 1*x_5_3 + 1*x_6_3 + 0]\n"
          ],
          "name": "stdout"
        }
      ]
    }
  ]
}