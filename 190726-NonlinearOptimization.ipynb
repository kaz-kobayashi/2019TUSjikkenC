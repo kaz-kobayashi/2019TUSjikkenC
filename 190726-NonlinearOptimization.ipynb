{
  "nbformat": 4,
  "nbformat_minor": 0,
  "metadata": {
    "colab": {
      "name": "Untitled16.ipynb",
      "version": "0.3.2",
      "provenance": [],
      "collapsed_sections": [],
      "include_colab_link": true
    },
    "kernelspec": {
      "name": "python3",
      "display_name": "Python 3"
    }
  },
  "cells": [
    {
      "cell_type": "markdown",
      "metadata": {
        "id": "view-in-github",
        "colab_type": "text"
      },
      "source": [
        "<a href=\"https://colab.research.google.com/github/kaz-kobayashi/2019TUSjikkenC/blob/master/190726-NonlinearOptimization.ipynb\" target=\"_parent\"><img src=\"https://colab.research.google.com/assets/colab-badge.svg\" alt=\"Open In Colab\"/></a>"
      ]
    },
    {
      "cell_type": "code",
      "metadata": {
        "id": "ZF5Mb4nU0Woi",
        "colab_type": "code",
        "colab": {}
      },
      "source": [
        ""
      ],
      "execution_count": 0,
      "outputs": []
    },
    {
      "cell_type": "markdown",
      "metadata": {
        "id": "EPj8THCeXMn8",
        "colab_type": "text"
      },
      "source": [
        "ここの内容は，並木誠，Pythonによる数理最適化入門，朝倉書店,2018によっている．第5章から適宜引用している．"
      ]
    },
    {
      "cell_type": "markdown",
      "metadata": {
        "id": "e3zv32AS0Xst",
        "colab_type": "text"
      },
      "source": [
        "# 扱いやすい非線形凸最適化問題\n",
        "\n",
        "一般の制約付き非線形最適化問題を実際に解くには関数が凸でもかなり難しい．そこでここでは，アルゴリズムも整備されていて，広く応用されてる2種類の非線形凸最適化問題を取りあげる．\n",
        "\n",
        "## 凸2次最適化問題\n",
        "\n",
        "制約がすべて線形で，目的関数が凸の2次関数である最適化問題を，**凸2次最適化問題**といい次のように定式化される．\n",
        "\n",
        "(QP)\n",
        "\n",
        "$ 最小化 \\  \\  \\boldsymbol{c}^T \\boldsymbol{x}  + \\frac{1}{2} \\boldsymbol{x}^T \\boldsymbol{Q} \\boldsymbol{x} $\n",
        "\n",
        "$ 条件  \\ \\ \\boldsymbol{A} \\boldsymbol{x} \\geq \\boldsymbol{b}, \\boldsymbol{x} \\geq \\boldsymbol{0} $\n",
        "\n",
        "ここで，$\\boldsymbol{c} \\in \\mathrm{R}^n, \\boldsymbol{Q}  \\in \\mathrm{R}^{n \\times n}$は半正定値行列，$\\boldsymbol{A} \\in \\mathrm{R}^{m \\times n}, \\boldsymbol{b} \\in \\mathrm{R}^m$\n",
        "とする．\n",
        "\n",
        "最適ポートフォリオ選択問題，サポートベクトルマシンなどを応用にもつ．\n",
        "\n",
        "次に具体例を挙げる．\n",
        "\n",
        "$ \\boldsymbol{c} = \\begin{bmatrix}\n",
        "-2 \\\\\n",
        "-4\n",
        "\\end{bmatrix},\n",
        "\\boldsymbol{Q} = \\begin{bmatrix}\n",
        "2 & -1 \\\\\n",
        "-1 & 3 \n",
        "\\end{bmatrix}\n",
        "$\n",
        "$ \n",
        "\\boldsymbol{A} = \\begin{bmatrix}\n",
        "-2 & -3 \\\\\n",
        "-1 & -4 \n",
        "\\end{bmatrix},\n",
        "\\boldsymbol{c} = \\begin{bmatrix}\n",
        "-6 \\\\\n",
        "-5\n",
        "\\end{bmatrix}\n",
        "$\n",
        "\n",
        "Pythonで凸2次最適化問題を解くには，cvxoptというパッケージを用いる．このパッケージは，凸2次最適化問題を含む，広い凸最適化問題を扱いうことができる．\n",
        "\n",
        "上にあげた問題例を解くコードは次のとおりである．\n",
        "\n"
      ]
    },
    {
      "cell_type": "code",
      "metadata": {
        "id": "HlZrpt7N3Sno",
        "colab_type": "code",
        "colab": {}
      },
      "source": [
        "import numpy as np\n",
        "from cvxopt import solvers, matrix\n",
        "Q=matrix(np.array([[2.0,-1.0],[-1.0,3.0]]))\n",
        "c=matrix(np.array([-2.0,-4.0]))\n",
        "A=matrix(np.array([[-1.0,0.0],[0.0,-1.0],[2.0,3.0],[1.0,4.0]]))\n",
        "b=matrix(np.array([0.0,0.0,6.0,5.0]))"
      ],
      "execution_count": 0,
      "outputs": []
    },
    {
      "cell_type": "code",
      "metadata": {
        "id": "RW2jZDME-Bss",
        "colab_type": "code",
        "outputId": "55cb97c6-52c3-435e-ba19-8be1b3552e04",
        "colab": {
          "base_uri": "https://localhost:8080/",
          "height": 291
        }
      },
      "source": [
        "print(Q)\n",
        "print(A)\n",
        "print(c)\n",
        "print(b)"
      ],
      "execution_count": 2,
      "outputs": [
        {
          "output_type": "stream",
          "text": [
            "[ 2.00e+00 -1.00e+00]\n",
            "[-1.00e+00  3.00e+00]\n",
            "\n",
            "[-1.00e+00  0.00e+00]\n",
            "[ 0.00e+00 -1.00e+00]\n",
            "[ 2.00e+00  3.00e+00]\n",
            "[ 1.00e+00  4.00e+00]\n",
            "\n",
            "[-2.00e+00]\n",
            "[-4.00e+00]\n",
            "\n",
            "[ 0.00e+00]\n",
            "[ 0.00e+00]\n",
            "[ 6.00e+00]\n",
            "[ 5.00e+00]\n",
            "\n"
          ],
          "name": "stdout"
        }
      ]
    },
    {
      "cell_type": "code",
      "metadata": {
        "id": "B6vfmDkL-tAe",
        "colab_type": "code",
        "outputId": "aafa6967-0a1c-459d-809e-9cb42c1675ba",
        "colab": {
          "base_uri": "https://localhost:8080/",
          "height": 260
        }
      },
      "source": [
        "sol=solvers.qp(P=Q,q=c,G=A,h=b)\n",
        "print(sol)\n",
        "print(sol[\"x\"])\n",
        "print(sol[\"primal objective\"])"
      ],
      "execution_count": 3,
      "outputs": [
        {
          "output_type": "stream",
          "text": [
            "     pcost       dcost       gap    pres   dres\n",
            " 0: -4.8105e+00 -6.4700e+00  1e+01  4e-01  3e+00\n",
            " 1: -4.1678e+00 -5.6606e+00  1e+00  6e-17  3e-16\n",
            " 2: -4.5418e+00 -4.6061e+00  6e-02  1e-17  1e-16\n",
            " 3: -4.5465e+00 -4.5472e+00  7e-04  1e-16  2e-16\n",
            " 4: -4.5465e+00 -4.5465e+00  7e-06  1e-16  1e-16\n",
            " 5: -4.5465e+00 -4.5465e+00  7e-08  1e-17  2e-16\n",
            "Optimal solution found.\n",
            "{'x': <2x1 matrix, tc='d'>, 'y': <0x1 matrix, tc='d'>, 's': <4x1 matrix, tc='d'>, 'z': <4x1 matrix, tc='d'>, 'status': 'optimal', 'gap': 7.284650158656621e-08, 'relative gap': 1.6022504205937193e-08, 'primal objective': -4.546511622045491, 'dual objective': -4.546511694891993, 'primal infeasibility': 1.4214949210266778e-17, 'dual infeasibility': 2.0014830212433602e-16, 'primal slack': 1.0081752643395509e-08, 'dual slack': 4.21430289047439e-09, 'iterations': 5}\n",
            "[ 1.19e+00]\n",
            "[ 9.53e-01]\n",
            "\n",
            "-4.546511622045491\n"
          ],
          "name": "stdout"
        }
      ]
    },
    {
      "cell_type": "markdown",
      "metadata": {
        "id": "UlSLi70L-7xS",
        "colab_type": "text"
      },
      "source": [
        "基本的には問題を決定する行列とベクトルをcvxoptが提供するmatrix形式でソルバーに渡せば解いてくれる．ただし行列，ベクトルをmatrix形式で作成するときはnumpyの配列を経由するなどの注意が必要である．\n",
        "\n",
        "上の例では，5回の繰り返しの後，最適解$(\\frac{51}{43},\\frac{41}{43})$と最適値$-4.546...$を得た．\n"
      ]
    },
    {
      "cell_type": "markdown",
      "metadata": {
        "id": "bqHWjqZI_kzm",
        "colab_type": "text"
      },
      "source": [
        "#錐最適化問題\n",
        "\n",
        "錐とは次で定義される．\n",
        "\n",
        "##錐，凸錐，閉凸錐\n",
        "集合$C \\subseteq \\mathrm{R}^n$に対し，任意の$\\boldsymbol{x}\\in C$と$\\alpha>0$に対し， $\\alpha \\boldsymbol{x} \\in C$であるとき，$C$を錐(cone)という．凸集合である錐を凸錐（convex cone），さらに閉集合の凸錐を閉凸錐（closed convex cone）という．\n",
        "\n",
        "##錐最適化問題の定式化\n",
        "\n",
        "$\\boldsymbol{c} \\in \\mathrm{R}^n,\\boldsymbol{A} \\in \\mathrm{R}^{m \\times n},\\boldsymbol{b} \\in \\mathrm{R}^m,\\boldsymbol{C} \\subseteq \\mathrm{R}^n$\n",
        "を閉凸錐とする．以下の最適化問題を錐線形最適化問題と呼ぶ．\n",
        "\n",
        "最小化 $\\boldsymbol{c}^{\\top} \\boldsymbol{x} $\n",
        "\n",
        "条件   $\\boldsymbol{Ax} = \\boldsymbol{b}$\n",
        "\n",
        "$\\quad \\quad \\boldsymbol{x} \\in C$\n",
        "\n",
        "錐線形最適化問題は，双対問題を簡潔である条件のもとでは双対定理も成り立つ応用範囲の広い凸最適化問題である．\n",
        "\n",
        "##2次錐最適化問題\n",
        "\n",
        "凸錐$\\boldsymbol{C}$が2次錐あるいは2次錐の直和で表されるとき，その問題は**2次錐最適化問題**という．ここで2次錐とは，$C=\\{\\boldsymbol{x} \\in \\mathrm{R}^n | x_1 \\geq \\sqrt{x_2^2+x_3^2+\\cdots+x_n^2}\\}$のことであり，アイスクリームコーンの形をしている．\n",
        "\n",
        "以下のようなゴミ集積所決定問題が２次錐最適化問題として定式化可能である．\n",
        "\n",
        "###ゴミ集積所決定問題###\n",
        "\n",
        "ある地区には8軒の家が散らばって建っている．それぞれの家の位置の$x$座標，$y$座標は与えられている．ここにゴミ集積所を作りたい．ただし各家庭のゴミの量は表のように決まっており，ゴミの量と家から集積所への距離をかけて，各家庭で足し合わせたもの，つまりゴミ出しのときの総仕事量を最小にしたい．どこに集積所を作ったらよいか？\n",
        "\n",
        "家の集合を$H=\\{0,1,2,3,4,5,6,7\\}$，\n",
        "ゴミ集積所の位置を$(X,Y)$，\n",
        "家$i$の位置の$x$座標を$x_i(i \\in H)$，家$i$の位置の$y$座標を$y_i (i \\in H)$，　家のゴミの量を$w(i) (i \\in H)$とする．さらにごみ集積所と家$i$間の距離を$d_i (i \\in H)$とすると，上のゴミ集積所決定問題は以下のように定式化される．\n",
        "\n",
        "最小化        $\\quad d_0+2d_1+2d_2+d_3+2d_4+5d_5+4d_6+d_6$\n",
        "\n",
        "条件　　$\\quad d_i \\geq \\sqrt{(X-x_i)^2+(Y-y_i)^2}\\quad \\forall i \\in H$\n",
        "\n",
        "これは2次錐最適化問題である．\n",
        "\n",
        "Pythonで解くために，picosと呼ばれるインターフェースを提供するパッケージを利用する．ソルバーはcvxoptである．\n"
      ]
    },
    {
      "cell_type": "code",
      "metadata": {
        "id": "tid27og4Yvwc",
        "colab_type": "code",
        "outputId": "bc96f1de-ce7b-4652-f5ce-22a2a23c711a",
        "colab": {
          "base_uri": "https://localhost:8080/",
          "height": 225
        }
      },
      "source": [
        "!pip install picos"
      ],
      "execution_count": 4,
      "outputs": [
        {
          "output_type": "stream",
          "text": [
            "Collecting picos\n",
            "\u001b[?25l  Downloading https://files.pythonhosted.org/packages/0b/ad/144eceb754105337dfcfc47308ef343df27162e7bcb05c525615c840955f/PICOS-1.2.0.post32.tar.gz (154kB)\n",
            "\u001b[K     |████████████████████████████████| 163kB 2.8MB/s \n",
            "\u001b[?25hRequirement already satisfied: CVXOPT>=1.1.4 in /usr/local/lib/python3.6/dist-packages (from picos) (1.2.3)\n",
            "Requirement already satisfied: numpy>=1.6.2 in /usr/local/lib/python3.6/dist-packages (from picos) (1.16.4)\n",
            "Building wheels for collected packages: picos\n",
            "  Building wheel for picos (setup.py) ... \u001b[?25l\u001b[?25hdone\n",
            "  Stored in directory: /root/.cache/pip/wheels/a2/13/52/4f2a1449b56f4a9e2d50b5089013cd8232351a2de012d0b2e5\n",
            "Successfully built picos\n",
            "Installing collected packages: picos\n",
            "Successfully installed picos-1.2.0.post32\n"
          ],
          "name": "stdout"
        }
      ]
    },
    {
      "cell_type": "code",
      "metadata": {
        "id": "w7kGERBzY0ja",
        "colab_type": "code",
        "colab": {}
      },
      "source": [
        "import numpy as np \n",
        "import picos as pic\n",
        "import matplotlib.pyplot as plt\n",
        "\n",
        "H=[0,1,2,3,4,5,6,7]\n",
        "p=[[44,47],[64,67],[67,9],[83,21],[36,87],[70,88],[88,12],[58,65]]\n",
        "w=[1,2,2,1,2,5,4,1]"
      ],
      "execution_count": 0,
      "outputs": []
    },
    {
      "cell_type": "code",
      "metadata": {
        "id": "8Nmdq8pkZMkX",
        "colab_type": "code",
        "outputId": "6b078ec9-7b4f-4c81-8a75-c509de0a15d6",
        "colab": {
          "base_uri": "https://localhost:8080/",
          "height": 445
        }
      },
      "source": [
        "socp=pic.Problem()\n",
        "X=socp.add_variable('X',2)\n",
        "d=[socp.add_variable('d['+str(i)+']',1) for i in H]\n",
        "objective=sum(w[i]*d[i] for i in H)\n",
        "socp.set_objective('min',objective)\n",
        "socp.add_list_of_constraints([abs(p[i]-X)<d[i] for i in H])\n",
        "res=socp.solve(solver='cvxopt')\n",
        "print(X.value[0])\n",
        "print(X.value[1])"
      ],
      "execution_count": 7,
      "outputs": [
        {
          "output_type": "stream",
          "text": [
            "===================================\n",
            "        PICOS 1.2.0.post32         \n",
            "===================================\n",
            "Building a CVXOPT problem instance.\n",
            "Solving the problem via CVXOPT.\n",
            "-----------------------------------\n",
            " Python Convex Optimization Solver \n",
            "    via internal CONELP solver     \n",
            "-----------------------------------\n",
            "     pcost       dcost       gap    pres   dres   k/t\n",
            " 0: -3.7303e-14 -2.1370e-14  9e+02  5e-01  7e-17  1e+00\n",
            " 1:  5.5052e+02  5.5465e+02  2e+02  1e-01  1e-15  4e+00\n",
            " 2:  6.0315e+02  6.0404e+02  4e+01  2e-02  8e-16  9e-01\n",
            " 3:  6.1384e+02  6.1426e+02  1e+01  9e-03  4e-16  4e-01\n",
            " 4:  6.1807e+02  6.1814e+02  1e+00  7e-04  6e-16  7e-02\n",
            " 5:  6.1856e+02  6.1856e+02  6e-02  4e-05  2e-15  4e-03\n",
            " 6:  6.1859e+02  6.1859e+02  2e-03  1e-06  2e-14  1e-04\n",
            " 7:  6.1859e+02  6.1859e+02  9e-05  6e-08  3e-13  6e-06\n",
            " 8:  6.1859e+02  6.1859e+02  2e-06  2e-09  4e-12  1e-07\n",
            "Optimal solution found.\n",
            "------------[ CVXOPT ]-------------\n",
            "Solution is optimal after 4.0e-02s.\n",
            "=============[ PICOS ]=============\n",
            "64.00000030746362\n",
            "66.99999955529726\n"
          ],
          "name": "stdout"
        }
      ]
    },
    {
      "cell_type": "markdown",
      "metadata": {
        "id": "jgg-BZCKaH7t",
        "colab_type": "text"
      },
      "source": [
        "次のコードで，\n",
        "ゴミ集積所と家の位置を表示した図が得られる。"
      ]
    },
    {
      "cell_type": "code",
      "metadata": {
        "id": "ShaWvFNVaHbp",
        "colab_type": "code",
        "outputId": "fc52b43b-c713-4cb1-cf36-5cf1e01332ab",
        "colab": {
          "base_uri": "https://localhost:8080/",
          "height": 269
        }
      },
      "source": [
        "x=np.array(p)[:,0]\n",
        "y=np.array(p)[:,1]\n",
        "plt.scatter(x,y,color='k',marker='+')\n",
        "plt.scatter(X.value[0],X.value[1],marker='o')\n",
        "plt.show()\n"
      ],
      "execution_count": 8,
      "outputs": [
        {
          "output_type": "display_data",
          "data": {
            "image/png": "[encoded data removed]",
            "text/plain": [
              "<Figure size 432x288 with 1 Axes>"
            ]
          },
          "metadata": {
            "tags": []
          }
        }
      ]
    },
    {
      "cell_type": "markdown",
      "metadata": {
        "id": "GEPnmPPwbF1z",
        "colab_type": "text"
      },
      "source": [
        "# Scipy Lecture Notes \n",
        "\n",
        "https://scipy-lectures.org/\n",
        "\n",
        "##1次元関数の最適化\n",
        "\n"
      ]
    },
    {
      "cell_type": "code",
      "metadata": {
        "id": "jyMcUHK3cVzd",
        "colab_type": "code",
        "outputId": "7404d63b-178f-45e5-dbed-9aff88cbc8d4",
        "colab": {
          "base_uri": "https://localhost:8080/",
          "height": 51
        }
      },
      "source": [
        "from scipy import optimize\n",
        "def f(x):\n",
        "    return -np.exp(-(x-.7)**2)\n",
        "x_min=optimize.brent(f)\n",
        "print(x_min)\n",
        "print(x_min-.7)"
      ],
      "execution_count": 9,
      "outputs": [
        {
          "output_type": "stream",
          "text": [
            "0.6999999997839409\n",
            "-2.160590595323697e-10\n"
          ],
          "name": "stdout"
        }
      ]
    },
    {
      "cell_type": "markdown",
      "metadata": {
        "id": "-tV2oSaHc2yQ",
        "colab_type": "text"
      },
      "source": [
        "scipy.optimize.fminbound(f,lb,ub)により，区間の制約をつけた最適化ができる．"
      ]
    },
    {
      "cell_type": "code",
      "metadata": {
        "id": "fdVS3KWYc2ZN",
        "colab_type": "code",
        "colab": {}
      },
      "source": [
        ""
      ],
      "execution_count": 0,
      "outputs": []
    },
    {
      "cell_type": "code",
      "metadata": {
        "id": "1wQWgPZ7cuug",
        "colab_type": "code",
        "outputId": "b6e31455-c3e6-4df8-c7c4-93d0d28509f2",
        "colab": {
          "base_uri": "https://localhost:8080/",
          "height": 51
        }
      },
      "source": [
        "from scipy import optimize\n",
        "def f(x):\n",
        "    return -np.exp(-(x-.7)**2)\n",
        "x_min=optimize.fminbound(f,0,0.5)\n",
        "print(x_min)\n",
        "print(x_min-.7)"
      ],
      "execution_count": 10,
      "outputs": [
        {
          "output_type": "stream",
          "text": [
            "0.49999553788108364\n",
            "-0.20000446211891632\n"
          ],
          "name": "stdout"
        }
      ]
    },
    {
      "cell_type": "markdown",
      "metadata": {
        "id": "UF_FYZNHdPYA",
        "colab_type": "text"
      },
      "source": [
        "##共役勾配法\n",
        "\n",
        "共役勾配法は，scipy.optimize.fmin_cg()で実現できる．\n",
        "\n"
      ]
    },
    {
      "cell_type": "code",
      "metadata": {
        "id": "mOIshMeCdcqx",
        "colab_type": "code",
        "colab": {}
      },
      "source": [
        "def f(x):\n",
        "    return .5*(1-x[0])**2+(x[1]-x[0]**2)**2\n"
      ],
      "execution_count": 0,
      "outputs": []
    },
    {
      "cell_type": "code",
      "metadata": {
        "id": "t9AP_3UmeLhv",
        "colab_type": "code",
        "outputId": "863eafe2-9d56-4d71-c4b2-9b0c0040eea4",
        "colab": {
          "base_uri": "https://localhost:8080/",
          "height": 120
        }
      },
      "source": [
        "optimize.fmin_cg(f,[2,2])"
      ],
      "execution_count": 12,
      "outputs": [
        {
          "output_type": "stream",
          "text": [
            "Optimization terminated successfully.\n",
            "         Current function value: 0.000000\n",
            "         Iterations: 8\n",
            "         Function evaluations: 80\n",
            "         Gradient evaluations: 20\n"
          ],
          "name": "stdout"
        },
        {
          "output_type": "execute_result",
          "data": {
            "text/plain": [
              "array([0.99999639, 0.99999253])"
            ]
          },
          "metadata": {
            "tags": []
          },
          "execution_count": 12
        }
      ]
    },
    {
      "cell_type": "markdown",
      "metadata": {
        "id": "JnjMFl-bhiQY",
        "colab_type": "text"
      },
      "source": [
        "この方法は関数の勾配を渡した方が性能が良い．"
      ]
    },
    {
      "cell_type": "code",
      "metadata": {
        "id": "o409f502hn3r",
        "colab_type": "code",
        "colab": {}
      },
      "source": [
        "def fprime(x):\n",
        "    return np.array((-2*.5*(1-x[0])-4*x[0]*(x[1]-x[0]**2),2*(x[1]-x[0]**2)))"
      ],
      "execution_count": 0,
      "outputs": []
    },
    {
      "cell_type": "code",
      "metadata": {
        "id": "hMVK6BkRh31D",
        "colab_type": "code",
        "outputId": "0d0794bb-46ef-4aaf-eddd-ee3e9abdfa18",
        "colab": {
          "base_uri": "https://localhost:8080/",
          "height": 120
        }
      },
      "source": [
        "optimize.fmin_cg(f,[2,2],fprime=fprime)"
      ],
      "execution_count": 14,
      "outputs": [
        {
          "output_type": "stream",
          "text": [
            "Optimization terminated successfully.\n",
            "         Current function value: 0.000000\n",
            "         Iterations: 8\n",
            "         Function evaluations: 20\n",
            "         Gradient evaluations: 20\n"
          ],
          "name": "stdout"
        },
        {
          "output_type": "execute_result",
          "data": {
            "text/plain": [
              "array([0.99999649, 0.99999274])"
            ]
          },
          "metadata": {
            "tags": []
          },
          "execution_count": 14
        }
      ]
    },
    {
      "cell_type": "markdown",
      "metadata": {
        "id": "JF-eQGq_iOzO",
        "colab_type": "text"
      },
      "source": [
        "##ニュートン法と準ニュートン法\n",
        "\n",
        "ニュートン法は，移動方向に局所的な二次近似を利用します．そのため1階微分である勾配と，2階微分であるヘッセ行列を用います．\n",
        "\n",
        "scipyではscipy.optimize.fmin_ncg()を用いてニュートン法を実行することができます．"
      ]
    },
    {
      "cell_type": "code",
      "metadata": {
        "id": "FqslhN6IitQ6",
        "colab_type": "code",
        "colab": {}
      },
      "source": [
        "def f(x):\n",
        "    return .5*(1-x[0])**2+(x[1]-x[0]**2)**2\n",
        "def fprime(x):\n",
        "    return np.array((-2*.5*(1-x[0])-4*x[0]*(x[1]-x[0]**2),2*(x[1]-x[0]**2)))"
      ],
      "execution_count": 0,
      "outputs": []
    },
    {
      "cell_type": "code",
      "metadata": {
        "id": "KtX0ROqWjC3H",
        "colab_type": "code",
        "outputId": "ee59a74c-2610-45ae-f6ec-00d53ca94cfd",
        "colab": {
          "base_uri": "https://localhost:8080/",
          "height": 137
        }
      },
      "source": [
        "optimize.fmin_ncg(f,[2,2],fprime=fprime)"
      ],
      "execution_count": 16,
      "outputs": [
        {
          "output_type": "stream",
          "text": [
            "Optimization terminated successfully.\n",
            "         Current function value: 0.000000\n",
            "         Iterations: 9\n",
            "         Function evaluations: 11\n",
            "         Gradient evaluations: 51\n",
            "         Hessian evaluations: 0\n"
          ],
          "name": "stdout"
        },
        {
          "output_type": "execute_result",
          "data": {
            "text/plain": [
              "array([1., 1.])"
            ]
          },
          "metadata": {
            "tags": []
          },
          "execution_count": 16
        }
      ]
    },
    {
      "cell_type": "markdown",
      "metadata": {
        "id": "2n5i4goAjIaZ",
        "colab_type": "text"
      },
      "source": [
        "共役勾配法と比べて，ニュートン法は関数の評価回数は少く済みますが，勾配の評価回数は（ヘッセ行列の評価に使うために）増えます．これはヘッセ行列を渡すことによって改善します．"
      ]
    },
    {
      "cell_type": "code",
      "metadata": {
        "id": "UpwZxRF4jZuo",
        "colab_type": "code",
        "colab": {}
      },
      "source": [
        "def hessian(x):\n",
        "    return np.array(((1-4*x[1]+12*x[0]**2,-4*x[0]),(-4*x[0],2)))"
      ],
      "execution_count": 0,
      "outputs": []
    },
    {
      "cell_type": "code",
      "metadata": {
        "id": "BX1qbGxhji37",
        "colab_type": "code",
        "outputId": "b6122f34-02a4-483e-baa5-5f837e51d9cd",
        "colab": {
          "base_uri": "https://localhost:8080/",
          "height": 137
        }
      },
      "source": [
        "optimize.fmin_ncg(f,[2,2],fprime=fprime,fhess=hessian)"
      ],
      "execution_count": 18,
      "outputs": [
        {
          "output_type": "stream",
          "text": [
            "Optimization terminated successfully.\n",
            "         Current function value: 0.000000\n",
            "         Iterations: 9\n",
            "         Function evaluations: 11\n",
            "         Gradient evaluations: 19\n",
            "         Hessian evaluations: 9\n"
          ],
          "name": "stdout"
        },
        {
          "output_type": "execute_result",
          "data": {
            "text/plain": [
              "array([1., 1.])"
            ]
          },
          "metadata": {
            "tags": []
          },
          "execution_count": 18
        }
      ]
    },
    {
      "cell_type": "markdown",
      "metadata": {
        "id": "CI7JpbSkj89z",
        "colab_type": "text"
      },
      "source": [
        "## 曲線のフィッティング\n",
        "\n",
        "データが非線形な場合の最小二乗問題は，scipy.optimize.curve_fit()で扱うことができます．\n",
        "\n",
        "(https://www.haya-programming.com/entry/2019/03/12/052716より適宜引用)"
      ]
    },
    {
      "cell_type": "markdown",
      "metadata": {
        "id": "TGN2lauZm2kX",
        "colab_type": "text"
      },
      "source": [
        "$f=x+a$でフィットする．"
      ]
    },
    {
      "cell_type": "code",
      "metadata": {
        "id": "60o-WtM3lYDL",
        "colab_type": "code",
        "outputId": "1ea85fdd-41e3-4a58-90c9-4412c51e1ef1",
        "colab": {
          "base_uri": "https://localhost:8080/",
          "height": 269
        }
      },
      "source": [
        "import numpy as np\n",
        "import matplotlib.pyplot as plt\n",
        "from scipy.optimize import curve_fit\n",
        "\n",
        "def func(x, a):\n",
        "    return x + a\n",
        "\n",
        "def main():\n",
        "    n = 50\n",
        "    x = np.linspace(-10, 10, n)\n",
        "    plt.figure()\n",
        "    for i, a in enumerate([2, 5, 14]):\n",
        "        y = func(x, a) + np.random.randn(n)\n",
        "        params, cov = curve_fit(func, x, y)\n",
        "        plt.scatter(x, y, c=\"rgb\"[i])\n",
        "        plt.plot(x, func(x, *params), c=\"rgb\"[i],\n",
        "                 label=\"a={:.4f}\".format(*params))\n",
        "    plt.legend()\n",
        "    plt.savefig(\"result1.png\")\n",
        "\n",
        "if __name__ == \"__main__\":\n",
        "    main()"
      ],
      "execution_count": 0,
      "outputs": [
        {
          "output_type": "display_data",
          "data": {
            "image/png": "[encoded data removed]",
            "text/plain": [
              "<Figure size 432x288 with 1 Axes>"
            ]
          },
          "metadata": {
            "tags": []
          }
        }
      ]
    },
    {
      "cell_type": "markdown",
      "metadata": {
        "id": "MlRG8YUbnh51",
        "colab_type": "text"
      },
      "source": [
        "$f(x)=ax$をフィットする"
      ]
    },
    {
      "cell_type": "code",
      "metadata": {
        "id": "PmfmgETGnMbf",
        "colab_type": "code",
        "outputId": "b808718d-0d26-467f-cf50-47b830d84262",
        "colab": {
          "base_uri": "https://localhost:8080/",
          "height": 269
        }
      },
      "source": [
        "import numpy as np\n",
        "import matplotlib.pyplot as plt\n",
        "from scipy.optimize import curve_fit\n",
        "\n",
        "def func(x, a):\n",
        "    return x * a\n",
        "\n",
        "def main():\n",
        "    n = 50\n",
        "    x = np.linspace(-10, 10, n)\n",
        "    plt.figure()\n",
        "    for i, a in enumerate([1, 1.5, 2]):\n",
        "        y = func(x, a) + np.random.randn(n)\n",
        "        params, cov = curve_fit(func, x, y)\n",
        "        plt.scatter(x, y, c=\"rgb\"[i])\n",
        "        plt.plot(x, func(x, *params), c=\"rgb\"[i],\n",
        "                 label=\"a={:.4f}\".format(*params))\n",
        "    plt.legend()\n",
        "    plt.savefig(\"result2.png\")\n",
        "\n",
        "if __name__ == \"__main__\":\n",
        "    main()"
      ],
      "execution_count": 0,
      "outputs": [
        {
          "output_type": "display_data",
          "data": {
            "image/png": "[encoded data removed]",
            "text/plain": [
              "<Figure size 432x288 with 1 Axes>"
            ]
          },
          "metadata": {
            "tags": []
          }
        }
      ]
    },
    {
      "cell_type": "markdown",
      "metadata": {
        "id": "9Qp-U-hFny2d",
        "colab_type": "text"
      },
      "source": [
        "$f(x)=ax+b$をフィットする"
      ]
    },
    {
      "cell_type": "code",
      "metadata": {
        "id": "u0N3xa3cnhQk",
        "colab_type": "code",
        "outputId": "608b596a-0997-4492-fec5-309b7e06ed85",
        "colab": {
          "base_uri": "https://localhost:8080/",
          "height": 269
        }
      },
      "source": [
        "import numpy as np\n",
        "import matplotlib.pyplot as plt\n",
        "from scipy.optimize import curve_fit\n",
        "\n",
        "def func(x, a, b):\n",
        "    return x * a + b\n",
        "\n",
        "def main():\n",
        "    n = 50\n",
        "    x = np.linspace(-10, 10, n)\n",
        "    plt.figure()\n",
        "    for i, pt in enumerate([[1, 2], [3, 4], [5,6]]):\n",
        "        y = func(x, *pt) + np.random.randn(n)\n",
        "        params, cov = curve_fit(func, x, y)\n",
        "        plt.scatter(x, y, c=\"rgb\"[i])\n",
        "        plt.plot(x, func(x, *params), c=\"rgb\"[i],\n",
        "                 label=\"a={:.4f}, b={:.4f}\".format(*params))\n",
        "    plt.legend()\n",
        "    plt.savefig(\"result3.png\")\n",
        "\n",
        "if __name__ == \"__main__\":\n",
        "    main()"
      ],
      "execution_count": 0,
      "outputs": [
        {
          "output_type": "display_data",
          "data": {
            "image/png": "[encoded data removed]",
            "text/plain": [
              "<Figure size 432x288 with 1 Axes>"
            ]
          },
          "metadata": {
            "tags": []
          }
        }
      ]
    },
    {
      "cell_type": "markdown",
      "metadata": {
        "id": "fsNZpu6Fn6m3",
        "colab_type": "text"
      },
      "source": [
        "4次多項式$ax^4+bx^3+cx^2+dx+e$"
      ]
    },
    {
      "cell_type": "code",
      "metadata": {
        "id": "Fh8nOcDBkJLW",
        "colab_type": "code",
        "outputId": "8296f774-22a7-46a1-824a-2d401f7c07a1",
        "colab": {
          "base_uri": "https://localhost:8080/",
          "height": 269
        }
      },
      "source": [
        "import numpy as np\n",
        "import matplotlib.pyplot as plt\n",
        "from scipy.optimize import curve_fit\n",
        "\n",
        "def func(x, a, b, c, d, e,):\n",
        "    return a*x**4 + b*x**3 + c*x**2 + d*x + e\n",
        "\n",
        "def main():\n",
        "    n = 50\n",
        "    x = np.linspace(-10, 10, n)\n",
        "    plt.figure()\n",
        "    for i, pt in enumerate([[1,2,3,4,5],\n",
        "                            [2,3,4,5,6],\n",
        "                            [3,4,5,6,7]]):\n",
        "        # 値のスケールが大きいのでノイズの大きさを調整\n",
        "        y = func(x, *pt) + 1000*np.random.randn(n)\n",
        "        params, cov = curve_fit(func, x, y)\n",
        "        plt.scatter(x, y, c=\"rgb\"[i])\n",
        "        plt.plot(x, func(x, *params), c=\"rgb\"[i],\n",
        "                 label=(\"a={:.3f} b={:.3f}\"\n",
        "                        \"c={:.3f} d={:.3f}\"\n",
        "                        \"e={:.3f}\").format(*params))\n",
        "    plt.legend()\n",
        "    plt.savefig(\"result4.png\")\n",
        "\n",
        "if __name__ == \"__main__\":\n",
        "    main()\n"
      ],
      "execution_count": 0,
      "outputs": [
        {
          "output_type": "display_data",
          "data": {
            "image/png": "[encoded data removed]",
            "text/plain": [
              "<Figure size 432x288 with 1 Axes>"
            ]
          },
          "metadata": {
            "tags": []
          }
        }
      ]
    },
    {
      "cell_type": "markdown",
      "metadata": {
        "id": "8NPjIWlFoZN2",
        "colab_type": "text"
      },
      "source": [
        "#制約付き最適化問題\n",
        "\n",
        "変数の範囲を指定する制約（箱型の制約）は下のコードで実行できます．"
      ]
    },
    {
      "cell_type": "code",
      "metadata": {
        "id": "FxlO3RCzpFtJ",
        "colab_type": "code",
        "outputId": "f2e1e58b-7584-487b-b370-4458d9902e88",
        "colab": {
          "base_uri": "https://localhost:8080/",
          "height": 137
        }
      },
      "source": [
        "def f(x):\n",
        "    return np.sqrt((x[0] - 3)**2 + (x[1] - 2)**2)\n",
        "optimize.fmin_l_bfgs_b(f, np.array([0, 0]), approx_grad=1, bounds=((-1.5, 1.5), (-1.5, 1.5)))   \n"
      ],
      "execution_count": 0,
      "outputs": [
        {
          "output_type": "execute_result",
          "data": {
            "text/plain": [
              "(array([1.5, 1.5]),\n",
              " 1.5811388300841898,\n",
              " {'funcalls': 9,\n",
              "  'grad': array([-0.94868331, -0.31622778]),\n",
              "  'nit': 2,\n",
              "  'task': b'CONVERGENCE: NORM_OF_PROJECTED_GRADIENT_<=_PGTOL',\n",
              "  'warnflag': 0})"
            ]
          },
          "metadata": {
            "tags": []
          },
          "execution_count": 46
        }
      ]
    },
    {
      "cell_type": "markdown",
      "metadata": {
        "id": "6XNeaNQIpdBB",
        "colab_type": "text"
      },
      "source": [
        "一般の不等式で課される制約はscipy.fmin_slspq()で解くことができます．"
      ]
    },
    {
      "cell_type": "code",
      "metadata": {
        "id": "DZHXlENwpkHh",
        "colab_type": "code",
        "outputId": "d6a7dafb-af20-4ea1-9eb8-ae93321e0a7d",
        "colab": {
          "base_uri": "https://localhost:8080/",
          "height": 120
        }
      },
      "source": [
        "def f(x):\n",
        "    return np.sqrt((x[0] - 3)**2 + (x[1] - 2)**2)\n",
        "\n",
        "def constraint(x):\n",
        "    return np.atleast_1d(1.5 - np.sum(np.abs(x)))\n",
        "\n",
        "optimize.fmin_slsqp(f, np.array([0, 0]), ieqcons=[constraint, ])"
      ],
      "execution_count": 0,
      "outputs": [
        {
          "output_type": "stream",
          "text": [
            "Optimization terminated successfully.    (Exit mode 0)\n",
            "            Current function value: 2.4748737350439685\n",
            "            Iterations: 5\n",
            "            Function evaluations: 20\n",
            "            Gradient evaluations: 5\n"
          ],
          "name": "stdout"
        },
        {
          "output_type": "execute_result",
          "data": {
            "text/plain": [
              "array([1.25004696, 0.24995304])"
            ]
          },
          "metadata": {
            "tags": []
          },
          "execution_count": 47
        }
      ]
    },
    {
      "cell_type": "markdown",
      "metadata": {
        "id": "MH6SHqbqqAa2",
        "colab_type": "text"
      },
      "source": [
        "#疎行列\n",
        "\n"
      ]
    },
    {
      "cell_type": "markdown",
      "metadata": {
        "id": "-AzDKwDKqN45",
        "colab_type": "text"
      },
      "source": [
        "http://www.turbare.net/transl/scipy-lecture-notes/advanced/scipy_sparse/introduction.html#why-sparse-matrices\n",
        "\n",
        "からの引用"
      ]
    },
    {
      "cell_type": "code",
      "metadata": {
        "id": "ZokYsl1eqCTv",
        "colab_type": "code",
        "outputId": "68ed8df5-4752-4099-9750-c2a44f7f5b71",
        "colab": {
          "base_uri": "https://localhost:8080/",
          "height": 300
        }
      },
      "source": [
        "import numpy as np\n",
        "import matplotlib.pyplot as plt\n",
        "x = np.linspace(0, 1e6, 10)\n",
        "plt.plot(x, 8.0 * (x**2) / 1e6, lw=5)    \n",
        "plt.xlabel('size n')    \n",
        "plt.ylabel('memory [MB]')    \n"
      ],
      "execution_count": 0,
      "outputs": [
        {
          "output_type": "execute_result",
          "data": {
            "text/plain": [
              "Text(0, 0.5, 'memory [MB]')"
            ]
          },
          "metadata": {
            "tags": []
          },
          "execution_count": 48
        },
        {
          "output_type": "display_data",
          "data": {
            "image/png": "[encoded data removed]",
            "text/plain": [
              "<Figure size 432x288 with 1 Axes>"
            ]
          },
          "metadata": {
            "tags": []
          }
        }
      ]
    }
  ]
}